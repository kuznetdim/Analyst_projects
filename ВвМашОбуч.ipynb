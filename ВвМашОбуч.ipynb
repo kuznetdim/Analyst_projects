{
 "cells": [
  {
   "cell_type": "markdown",
   "metadata": {},
   "source": [
    "<font color=\"blue\">Привет. Поздравляю с первой работой в ML. Давай смотреть что у тебя получилось"
   ]
  },
  {
   "cell_type": "markdown",
   "metadata": {},
   "source": [
    "# Рекомендация тарифов"
   ]
  },
  {
   "cell_type": "markdown",
   "metadata": {},
   "source": [
    "В вашем распоряжении данные о поведении клиентов, которые уже перешли на эти тарифы (из проекта курса «Статистический анализ данных»). Нужно построить модель для задачи классификации, которая выберет подходящий тариф. Предобработка данных не понадобится — вы её уже сделали.\n",
    "\n",
    "Постройте модель с максимально большим значением *accuracy*. Чтобы сдать проект успешно, нужно довести долю правильных ответов по крайней мере до 0.75. Проверьте *accuracy* на тестовой выборке самостоятельно."
   ]
  },
  {
   "cell_type": "markdown",
   "metadata": {},
   "source": [
    "## 1. Откройте и изучите файл"
   ]
  },
  {
   "cell_type": "code",
   "execution_count": 116,
   "metadata": {},
   "outputs": [
    {
     "name": "stdout",
     "output_type": "stream",
     "text": [
      "   calls  minutes  messages   mb_used  is_ultra\n",
      "0   40.0   311.90      83.0  19915.42         0\n",
      "1   85.0   516.75      56.0  22696.96         0\n",
      "2   77.0   467.66      86.0  21060.45         0\n",
      "3  106.0   745.53      81.0   8437.39         1\n",
      "4   66.0   418.74       1.0  14502.75         0\n"
     ]
    }
   ],
   "source": [
    "import pandas as pd\n",
    "import numpy as np\n",
    "\n",
    "from sklearn.model_selection import train_test_split\n",
    "from sklearn.metrics import mean_squared_error\n",
    "\n",
    "from sklearn.metrics import accuracy_score\n",
    "from sklearn.metrics import recall_score\n",
    "from sklearn.metrics import precision_score\n",
    "\n",
    "from sklearn.tree import DecisionTreeClassifier\n",
    "from sklearn.ensemble import RandomForestClassifier\n",
    "from sklearn.linear_model import LogisticRegression\n",
    "\n",
    "df = pd.read_csv('/datasets/users_behavior.csv')\n",
    "print(df.head())"
   ]
  },
  {
   "cell_type": "code",
   "execution_count": 117,
   "metadata": {},
   "outputs": [
    {
     "name": "stdout",
     "output_type": "stream",
     "text": [
      "<class 'pandas.core.frame.DataFrame'>\n",
      "RangeIndex: 3214 entries, 0 to 3213\n",
      "Data columns (total 5 columns):\n",
      "calls       3214 non-null float64\n",
      "minutes     3214 non-null float64\n",
      "messages    3214 non-null float64\n",
      "mb_used     3214 non-null float64\n",
      "is_ultra    3214 non-null int64\n",
      "dtypes: float64(4), int64(1)\n",
      "memory usage: 125.7 KB\n"
     ]
    }
   ],
   "source": [
    "df.info()"
   ]
  },
  {
   "cell_type": "code",
   "execution_count": 118,
   "metadata": {},
   "outputs": [
    {
     "data": {
      "text/plain": [
       "(3214, 5)"
      ]
     },
     "execution_count": 118,
     "metadata": {},
     "output_type": "execute_result"
    }
   ],
   "source": [
    "df.shape"
   ]
  },
  {
   "cell_type": "markdown",
   "metadata": {},
   "source": [
    "<font color=\"blue\">Отлично"
   ]
  },
  {
   "cell_type": "markdown",
   "metadata": {},
   "source": [
    "## 2. Разбейте данные на выборки"
   ]
  },
  {
   "cell_type": "markdown",
   "metadata": {},
   "source": [
    "разбиваю данные на три выборки  \n",
    "train - 60%  \n",
    "test - 20%  \n",
    "valid - 20%  "
   ]
  },
  {
   "cell_type": "markdown",
   "metadata": {},
   "source": [
    "<font color=\"green\"> Изменил разбиение  \n",
    "Вначале разбиваю на  \n",
    "train - 60%  \n",
    "other - 40%  \n",
    "потом разбиваю `other` пополам"
   ]
  },
  {
   "cell_type": "code",
   "execution_count": 119,
   "metadata": {},
   "outputs": [],
   "source": [
    "#train, validate, test = np.split(df.sample(frac=1), [int(.6*len(df)), int(.8*len(df))])\n",
    "train, other = train_test_split(df, test_size=0.4, random_state=12345)"
   ]
  },
  {
   "cell_type": "code",
   "execution_count": 120,
   "metadata": {},
   "outputs": [
    {
     "data": {
      "text/html": [
       "<div>\n",
       "<style scoped>\n",
       "    .dataframe tbody tr th:only-of-type {\n",
       "        vertical-align: middle;\n",
       "    }\n",
       "\n",
       "    .dataframe tbody tr th {\n",
       "        vertical-align: top;\n",
       "    }\n",
       "\n",
       "    .dataframe thead th {\n",
       "        text-align: right;\n",
       "    }\n",
       "</style>\n",
       "<table border=\"1\" class=\"dataframe\">\n",
       "  <thead>\n",
       "    <tr style=\"text-align: right;\">\n",
       "      <th></th>\n",
       "      <th>calls</th>\n",
       "      <th>minutes</th>\n",
       "      <th>messages</th>\n",
       "      <th>mb_used</th>\n",
       "      <th>is_ultra</th>\n",
       "    </tr>\n",
       "  </thead>\n",
       "  <tbody>\n",
       "    <tr>\n",
       "      <td>3027</td>\n",
       "      <td>60.0</td>\n",
       "      <td>431.56</td>\n",
       "      <td>26.0</td>\n",
       "      <td>14751.26</td>\n",
       "      <td>0</td>\n",
       "    </tr>\n",
       "    <tr>\n",
       "      <td>434</td>\n",
       "      <td>33.0</td>\n",
       "      <td>265.17</td>\n",
       "      <td>59.0</td>\n",
       "      <td>17398.02</td>\n",
       "      <td>0</td>\n",
       "    </tr>\n",
       "    <tr>\n",
       "      <td>1226</td>\n",
       "      <td>52.0</td>\n",
       "      <td>341.83</td>\n",
       "      <td>68.0</td>\n",
       "      <td>15462.38</td>\n",
       "      <td>0</td>\n",
       "    </tr>\n",
       "    <tr>\n",
       "      <td>1054</td>\n",
       "      <td>42.0</td>\n",
       "      <td>226.18</td>\n",
       "      <td>21.0</td>\n",
       "      <td>13243.48</td>\n",
       "      <td>0</td>\n",
       "    </tr>\n",
       "    <tr>\n",
       "      <td>1842</td>\n",
       "      <td>30.0</td>\n",
       "      <td>198.42</td>\n",
       "      <td>0.0</td>\n",
       "      <td>8189.53</td>\n",
       "      <td>0</td>\n",
       "    </tr>\n",
       "    <tr>\n",
       "      <td>...</td>\n",
       "      <td>...</td>\n",
       "      <td>...</td>\n",
       "      <td>...</td>\n",
       "      <td>...</td>\n",
       "      <td>...</td>\n",
       "    </tr>\n",
       "    <tr>\n",
       "      <td>2817</td>\n",
       "      <td>12.0</td>\n",
       "      <td>86.62</td>\n",
       "      <td>22.0</td>\n",
       "      <td>36628.85</td>\n",
       "      <td>1</td>\n",
       "    </tr>\n",
       "    <tr>\n",
       "      <td>546</td>\n",
       "      <td>65.0</td>\n",
       "      <td>458.46</td>\n",
       "      <td>0.0</td>\n",
       "      <td>15214.25</td>\n",
       "      <td>1</td>\n",
       "    </tr>\n",
       "    <tr>\n",
       "      <td>382</td>\n",
       "      <td>144.0</td>\n",
       "      <td>906.18</td>\n",
       "      <td>0.0</td>\n",
       "      <td>25002.44</td>\n",
       "      <td>1</td>\n",
       "    </tr>\n",
       "    <tr>\n",
       "      <td>2177</td>\n",
       "      <td>38.0</td>\n",
       "      <td>301.27</td>\n",
       "      <td>37.0</td>\n",
       "      <td>28914.24</td>\n",
       "      <td>1</td>\n",
       "    </tr>\n",
       "    <tr>\n",
       "      <td>482</td>\n",
       "      <td>160.0</td>\n",
       "      <td>1084.05</td>\n",
       "      <td>95.0</td>\n",
       "      <td>36843.92</td>\n",
       "      <td>1</td>\n",
       "    </tr>\n",
       "  </tbody>\n",
       "</table>\n",
       "<p>1928 rows × 5 columns</p>\n",
       "</div>"
      ],
      "text/plain": [
       "      calls  minutes  messages   mb_used  is_ultra\n",
       "3027   60.0   431.56      26.0  14751.26         0\n",
       "434    33.0   265.17      59.0  17398.02         0\n",
       "1226   52.0   341.83      68.0  15462.38         0\n",
       "1054   42.0   226.18      21.0  13243.48         0\n",
       "1842   30.0   198.42       0.0   8189.53         0\n",
       "...     ...      ...       ...       ...       ...\n",
       "2817   12.0    86.62      22.0  36628.85         1\n",
       "546    65.0   458.46       0.0  15214.25         1\n",
       "382   144.0   906.18       0.0  25002.44         1\n",
       "2177   38.0   301.27      37.0  28914.24         1\n",
       "482   160.0  1084.05      95.0  36843.92         1\n",
       "\n",
       "[1928 rows x 5 columns]"
      ]
     },
     "execution_count": 120,
     "metadata": {},
     "output_type": "execute_result"
    }
   ],
   "source": [
    "train"
   ]
  },
  {
   "cell_type": "code",
   "execution_count": 121,
   "metadata": {},
   "outputs": [
    {
     "data": {
      "text/html": [
       "<div>\n",
       "<style scoped>\n",
       "    .dataframe tbody tr th:only-of-type {\n",
       "        vertical-align: middle;\n",
       "    }\n",
       "\n",
       "    .dataframe tbody tr th {\n",
       "        vertical-align: top;\n",
       "    }\n",
       "\n",
       "    .dataframe thead th {\n",
       "        text-align: right;\n",
       "    }\n",
       "</style>\n",
       "<table border=\"1\" class=\"dataframe\">\n",
       "  <thead>\n",
       "    <tr style=\"text-align: right;\">\n",
       "      <th></th>\n",
       "      <th>calls</th>\n",
       "      <th>minutes</th>\n",
       "      <th>messages</th>\n",
       "      <th>mb_used</th>\n",
       "      <th>is_ultra</th>\n",
       "    </tr>\n",
       "  </thead>\n",
       "  <tbody>\n",
       "    <tr>\n",
       "      <td>1415</td>\n",
       "      <td>82.0</td>\n",
       "      <td>507.89</td>\n",
       "      <td>88.0</td>\n",
       "      <td>17543.37</td>\n",
       "      <td>1</td>\n",
       "    </tr>\n",
       "    <tr>\n",
       "      <td>916</td>\n",
       "      <td>50.0</td>\n",
       "      <td>375.91</td>\n",
       "      <td>35.0</td>\n",
       "      <td>12388.40</td>\n",
       "      <td>0</td>\n",
       "    </tr>\n",
       "    <tr>\n",
       "      <td>1670</td>\n",
       "      <td>83.0</td>\n",
       "      <td>540.49</td>\n",
       "      <td>41.0</td>\n",
       "      <td>9127.74</td>\n",
       "      <td>0</td>\n",
       "    </tr>\n",
       "    <tr>\n",
       "      <td>686</td>\n",
       "      <td>79.0</td>\n",
       "      <td>562.99</td>\n",
       "      <td>19.0</td>\n",
       "      <td>25508.19</td>\n",
       "      <td>1</td>\n",
       "    </tr>\n",
       "    <tr>\n",
       "      <td>2951</td>\n",
       "      <td>78.0</td>\n",
       "      <td>531.29</td>\n",
       "      <td>20.0</td>\n",
       "      <td>9217.25</td>\n",
       "      <td>0</td>\n",
       "    </tr>\n",
       "    <tr>\n",
       "      <td>...</td>\n",
       "      <td>...</td>\n",
       "      <td>...</td>\n",
       "      <td>...</td>\n",
       "      <td>...</td>\n",
       "      <td>...</td>\n",
       "    </tr>\n",
       "    <tr>\n",
       "      <td>1650</td>\n",
       "      <td>77.0</td>\n",
       "      <td>481.43</td>\n",
       "      <td>85.0</td>\n",
       "      <td>9765.00</td>\n",
       "      <td>1</td>\n",
       "    </tr>\n",
       "    <tr>\n",
       "      <td>1214</td>\n",
       "      <td>83.0</td>\n",
       "      <td>642.19</td>\n",
       "      <td>55.0</td>\n",
       "      <td>10806.69</td>\n",
       "      <td>0</td>\n",
       "    </tr>\n",
       "    <tr>\n",
       "      <td>2876</td>\n",
       "      <td>59.0</td>\n",
       "      <td>388.81</td>\n",
       "      <td>27.0</td>\n",
       "      <td>19021.86</td>\n",
       "      <td>1</td>\n",
       "    </tr>\n",
       "    <tr>\n",
       "      <td>2010</td>\n",
       "      <td>110.0</td>\n",
       "      <td>796.32</td>\n",
       "      <td>119.0</td>\n",
       "      <td>22339.22</td>\n",
       "      <td>1</td>\n",
       "    </tr>\n",
       "    <tr>\n",
       "      <td>711</td>\n",
       "      <td>70.0</td>\n",
       "      <td>468.61</td>\n",
       "      <td>28.0</td>\n",
       "      <td>22586.68</td>\n",
       "      <td>0</td>\n",
       "    </tr>\n",
       "  </tbody>\n",
       "</table>\n",
       "<p>1286 rows × 5 columns</p>\n",
       "</div>"
      ],
      "text/plain": [
       "      calls  minutes  messages   mb_used  is_ultra\n",
       "1415   82.0   507.89      88.0  17543.37         1\n",
       "916    50.0   375.91      35.0  12388.40         0\n",
       "1670   83.0   540.49      41.0   9127.74         0\n",
       "686    79.0   562.99      19.0  25508.19         1\n",
       "2951   78.0   531.29      20.0   9217.25         0\n",
       "...     ...      ...       ...       ...       ...\n",
       "1650   77.0   481.43      85.0   9765.00         1\n",
       "1214   83.0   642.19      55.0  10806.69         0\n",
       "2876   59.0   388.81      27.0  19021.86         1\n",
       "2010  110.0   796.32     119.0  22339.22         1\n",
       "711    70.0   468.61      28.0  22586.68         0\n",
       "\n",
       "[1286 rows x 5 columns]"
      ]
     },
     "execution_count": 121,
     "metadata": {},
     "output_type": "execute_result"
    }
   ],
   "source": [
    "other"
   ]
  },
  {
   "cell_type": "code",
   "execution_count": 122,
   "metadata": {},
   "outputs": [],
   "source": [
    "test, validate = train_test_split(other, test_size=0.5, random_state=12345)"
   ]
  },
  {
   "cell_type": "code",
   "execution_count": 123,
   "metadata": {},
   "outputs": [
    {
     "data": {
      "text/html": [
       "<div>\n",
       "<style scoped>\n",
       "    .dataframe tbody tr th:only-of-type {\n",
       "        vertical-align: middle;\n",
       "    }\n",
       "\n",
       "    .dataframe tbody tr th {\n",
       "        vertical-align: top;\n",
       "    }\n",
       "\n",
       "    .dataframe thead th {\n",
       "        text-align: right;\n",
       "    }\n",
       "</style>\n",
       "<table border=\"1\" class=\"dataframe\">\n",
       "  <thead>\n",
       "    <tr style=\"text-align: right;\">\n",
       "      <th></th>\n",
       "      <th>calls</th>\n",
       "      <th>minutes</th>\n",
       "      <th>messages</th>\n",
       "      <th>mb_used</th>\n",
       "      <th>is_ultra</th>\n",
       "    </tr>\n",
       "  </thead>\n",
       "  <tbody>\n",
       "    <tr>\n",
       "      <td>1386</td>\n",
       "      <td>92.0</td>\n",
       "      <td>536.96</td>\n",
       "      <td>18.0</td>\n",
       "      <td>20193.90</td>\n",
       "      <td>0</td>\n",
       "    </tr>\n",
       "    <tr>\n",
       "      <td>3124</td>\n",
       "      <td>40.0</td>\n",
       "      <td>286.57</td>\n",
       "      <td>17.0</td>\n",
       "      <td>17918.75</td>\n",
       "      <td>0</td>\n",
       "    </tr>\n",
       "    <tr>\n",
       "      <td>1956</td>\n",
       "      <td>81.0</td>\n",
       "      <td>531.22</td>\n",
       "      <td>56.0</td>\n",
       "      <td>17755.06</td>\n",
       "      <td>0</td>\n",
       "    </tr>\n",
       "    <tr>\n",
       "      <td>2286</td>\n",
       "      <td>67.0</td>\n",
       "      <td>460.76</td>\n",
       "      <td>27.0</td>\n",
       "      <td>16626.26</td>\n",
       "      <td>0</td>\n",
       "    </tr>\n",
       "    <tr>\n",
       "      <td>3077</td>\n",
       "      <td>22.0</td>\n",
       "      <td>120.09</td>\n",
       "      <td>16.0</td>\n",
       "      <td>9039.57</td>\n",
       "      <td>0</td>\n",
       "    </tr>\n",
       "    <tr>\n",
       "      <td>...</td>\n",
       "      <td>...</td>\n",
       "      <td>...</td>\n",
       "      <td>...</td>\n",
       "      <td>...</td>\n",
       "      <td>...</td>\n",
       "    </tr>\n",
       "    <tr>\n",
       "      <td>1999</td>\n",
       "      <td>56.0</td>\n",
       "      <td>398.45</td>\n",
       "      <td>4.0</td>\n",
       "      <td>23682.94</td>\n",
       "      <td>0</td>\n",
       "    </tr>\n",
       "    <tr>\n",
       "      <td>1023</td>\n",
       "      <td>76.0</td>\n",
       "      <td>601.10</td>\n",
       "      <td>0.0</td>\n",
       "      <td>17104.36</td>\n",
       "      <td>0</td>\n",
       "    </tr>\n",
       "    <tr>\n",
       "      <td>748</td>\n",
       "      <td>81.0</td>\n",
       "      <td>525.97</td>\n",
       "      <td>15.0</td>\n",
       "      <td>18878.91</td>\n",
       "      <td>0</td>\n",
       "    </tr>\n",
       "    <tr>\n",
       "      <td>1667</td>\n",
       "      <td>10.0</td>\n",
       "      <td>63.03</td>\n",
       "      <td>0.0</td>\n",
       "      <td>2568.00</td>\n",
       "      <td>1</td>\n",
       "    </tr>\n",
       "    <tr>\n",
       "      <td>3197</td>\n",
       "      <td>89.0</td>\n",
       "      <td>660.72</td>\n",
       "      <td>68.0</td>\n",
       "      <td>11711.54</td>\n",
       "      <td>0</td>\n",
       "    </tr>\n",
       "  </tbody>\n",
       "</table>\n",
       "<p>643 rows × 5 columns</p>\n",
       "</div>"
      ],
      "text/plain": [
       "      calls  minutes  messages   mb_used  is_ultra\n",
       "1386   92.0   536.96      18.0  20193.90         0\n",
       "3124   40.0   286.57      17.0  17918.75         0\n",
       "1956   81.0   531.22      56.0  17755.06         0\n",
       "2286   67.0   460.76      27.0  16626.26         0\n",
       "3077   22.0   120.09      16.0   9039.57         0\n",
       "...     ...      ...       ...       ...       ...\n",
       "1999   56.0   398.45       4.0  23682.94         0\n",
       "1023   76.0   601.10       0.0  17104.36         0\n",
       "748    81.0   525.97      15.0  18878.91         0\n",
       "1667   10.0    63.03       0.0   2568.00         1\n",
       "3197   89.0   660.72      68.0  11711.54         0\n",
       "\n",
       "[643 rows x 5 columns]"
      ]
     },
     "execution_count": 123,
     "metadata": {},
     "output_type": "execute_result"
    }
   ],
   "source": [
    "test"
   ]
  },
  {
   "cell_type": "code",
   "execution_count": 124,
   "metadata": {},
   "outputs": [
    {
     "data": {
      "text/html": [
       "<div>\n",
       "<style scoped>\n",
       "    .dataframe tbody tr th:only-of-type {\n",
       "        vertical-align: middle;\n",
       "    }\n",
       "\n",
       "    .dataframe tbody tr th {\n",
       "        vertical-align: top;\n",
       "    }\n",
       "\n",
       "    .dataframe thead th {\n",
       "        text-align: right;\n",
       "    }\n",
       "</style>\n",
       "<table border=\"1\" class=\"dataframe\">\n",
       "  <thead>\n",
       "    <tr style=\"text-align: right;\">\n",
       "      <th></th>\n",
       "      <th>calls</th>\n",
       "      <th>minutes</th>\n",
       "      <th>messages</th>\n",
       "      <th>mb_used</th>\n",
       "      <th>is_ultra</th>\n",
       "    </tr>\n",
       "  </thead>\n",
       "  <tbody>\n",
       "    <tr>\n",
       "      <td>160</td>\n",
       "      <td>61.0</td>\n",
       "      <td>495.11</td>\n",
       "      <td>8.0</td>\n",
       "      <td>10891.23</td>\n",
       "      <td>0</td>\n",
       "    </tr>\n",
       "    <tr>\n",
       "      <td>2498</td>\n",
       "      <td>80.0</td>\n",
       "      <td>555.04</td>\n",
       "      <td>28.0</td>\n",
       "      <td>28083.58</td>\n",
       "      <td>0</td>\n",
       "    </tr>\n",
       "    <tr>\n",
       "      <td>1748</td>\n",
       "      <td>87.0</td>\n",
       "      <td>697.23</td>\n",
       "      <td>0.0</td>\n",
       "      <td>8335.70</td>\n",
       "      <td>0</td>\n",
       "    </tr>\n",
       "    <tr>\n",
       "      <td>1816</td>\n",
       "      <td>41.0</td>\n",
       "      <td>275.80</td>\n",
       "      <td>9.0</td>\n",
       "      <td>10032.39</td>\n",
       "      <td>0</td>\n",
       "    </tr>\n",
       "    <tr>\n",
       "      <td>1077</td>\n",
       "      <td>60.0</td>\n",
       "      <td>428.49</td>\n",
       "      <td>20.0</td>\n",
       "      <td>29389.52</td>\n",
       "      <td>1</td>\n",
       "    </tr>\n",
       "    <tr>\n",
       "      <td>...</td>\n",
       "      <td>...</td>\n",
       "      <td>...</td>\n",
       "      <td>...</td>\n",
       "      <td>...</td>\n",
       "      <td>...</td>\n",
       "    </tr>\n",
       "    <tr>\n",
       "      <td>2401</td>\n",
       "      <td>55.0</td>\n",
       "      <td>446.06</td>\n",
       "      <td>79.0</td>\n",
       "      <td>26526.28</td>\n",
       "      <td>0</td>\n",
       "    </tr>\n",
       "    <tr>\n",
       "      <td>2928</td>\n",
       "      <td>102.0</td>\n",
       "      <td>742.65</td>\n",
       "      <td>58.0</td>\n",
       "      <td>16089.24</td>\n",
       "      <td>1</td>\n",
       "    </tr>\n",
       "    <tr>\n",
       "      <td>1985</td>\n",
       "      <td>52.0</td>\n",
       "      <td>349.94</td>\n",
       "      <td>42.0</td>\n",
       "      <td>12150.72</td>\n",
       "      <td>0</td>\n",
       "    </tr>\n",
       "    <tr>\n",
       "      <td>357</td>\n",
       "      <td>39.0</td>\n",
       "      <td>221.18</td>\n",
       "      <td>59.0</td>\n",
       "      <td>17865.23</td>\n",
       "      <td>0</td>\n",
       "    </tr>\n",
       "    <tr>\n",
       "      <td>2313</td>\n",
       "      <td>40.0</td>\n",
       "      <td>301.03</td>\n",
       "      <td>102.0</td>\n",
       "      <td>6057.63</td>\n",
       "      <td>0</td>\n",
       "    </tr>\n",
       "  </tbody>\n",
       "</table>\n",
       "<p>643 rows × 5 columns</p>\n",
       "</div>"
      ],
      "text/plain": [
       "      calls  minutes  messages   mb_used  is_ultra\n",
       "160    61.0   495.11       8.0  10891.23         0\n",
       "2498   80.0   555.04      28.0  28083.58         0\n",
       "1748   87.0   697.23       0.0   8335.70         0\n",
       "1816   41.0   275.80       9.0  10032.39         0\n",
       "1077   60.0   428.49      20.0  29389.52         1\n",
       "...     ...      ...       ...       ...       ...\n",
       "2401   55.0   446.06      79.0  26526.28         0\n",
       "2928  102.0   742.65      58.0  16089.24         1\n",
       "1985   52.0   349.94      42.0  12150.72         0\n",
       "357    39.0   221.18      59.0  17865.23         0\n",
       "2313   40.0   301.03     102.0   6057.63         0\n",
       "\n",
       "[643 rows x 5 columns]"
      ]
     },
     "execution_count": 124,
     "metadata": {},
     "output_type": "execute_result"
    }
   ],
   "source": [
    "validate"
   ]
  },
  {
   "cell_type": "code",
   "execution_count": 125,
   "metadata": {},
   "outputs": [],
   "source": [
    "train_features = train.drop(['is_ultra'], axis=1)\n",
    "train_target = train['is_ultra']"
   ]
  },
  {
   "cell_type": "code",
   "execution_count": 126,
   "metadata": {},
   "outputs": [],
   "source": [
    "valid_features = validate.drop(['is_ultra'], axis=1)\n",
    "valid_target = validate['is_ultra']"
   ]
  },
  {
   "cell_type": "code",
   "execution_count": 127,
   "metadata": {},
   "outputs": [],
   "source": [
    "test_features = test.drop(['is_ultra'], axis=1)\n",
    "test_target = test['is_ultra']"
   ]
  },
  {
   "cell_type": "markdown",
   "metadata": {},
   "source": [
    "<font color=\"blue\">Странно, импортируешь ``train_test_split`` но бьёшь через ``np.split``. Лучше использовать первый вариант, ну или сделать кросс проверки на отсутсвие пересечений. Давай попрвим эту часть"
   ]
  },
  {
   "cell_type": "markdown",
   "metadata": {},
   "source": [
    "<font color=\"blue\">Да, теперь ок."
   ]
  },
  {
   "cell_type": "markdown",
   "metadata": {},
   "source": [
    "## 3. Исследуйте модели"
   ]
  },
  {
   "cell_type": "markdown",
   "metadata": {},
   "source": [
    "обучаю модели на train и проверяю valid"
   ]
  },
  {
   "cell_type": "markdown",
   "metadata": {},
   "source": [
    "Рассмотрим дерево решений   \n",
    "изменяю глубину в дереве решений"
   ]
  },
  {
   "cell_type": "code",
   "execution_count": 128,
   "metadata": {},
   "outputs": [
    {
     "name": "stdout",
     "output_type": "stream",
     "text": [
      "max_depth = 1 : 0.7356143079315708\n",
      "max_depth = 2 : 0.7744945567651633\n",
      "max_depth = 3 : 0.7791601866251944\n",
      "max_depth = 4 : 0.7744945567651633\n",
      "max_depth = 5 : 0.7838258164852255\n"
     ]
    }
   ],
   "source": [
    "for depth in range(1, 6):\n",
    "    model = DecisionTreeClassifier(max_depth=depth, random_state=12345)\n",
    "\n",
    "    model.fit(train_features, train_target)\n",
    "    predictions_valid = model.predict(valid_features)\n",
    "\n",
    "    print(\"max_depth =\", depth, \": \", end='')\n",
    "    print(accuracy_score(valid_target, predictions_valid))"
   ]
  },
  {
   "cell_type": "markdown",
   "metadata": {},
   "source": [
    "Рассмотрим алгоритм классификации — случайный лес  \n",
    "изменяю количество деревьев в лесу"
   ]
  },
  {
   "cell_type": "code",
   "execution_count": 129,
   "metadata": {},
   "outputs": [
    {
     "name": "stdout",
     "output_type": "stream",
     "text": [
      "n_estimators = 10 : 0.7807153965785381\n",
      "n_estimators = 20 : 0.7822706065318819\n",
      "n_estimators = 30 : 0.7853810264385692\n",
      "n_estimators = 40 : 0.7931570762052877\n",
      "n_estimators = 50 : 0.7931570762052877\n",
      "n_estimators = 60 : 0.7947122861586314\n",
      "n_estimators = 70 : 0.7931570762052877\n"
     ]
    }
   ],
   "source": [
    "for estim in range(10, 71, 10):\n",
    "    model_RFC = RandomForestClassifier(random_state=12345, n_estimators=estim)\n",
    "    \n",
    "    model_RFC.fit(train_features, train_target)   \n",
    "    predict_RFC = model_RFC.predict(valid_features)\n",
    "    \n",
    "    print(\"n_estimators =\", estim, \": \", end='')\n",
    "    print(accuracy_score(valid_target,predict_RFC))"
   ]
  },
  {
   "cell_type": "markdown",
   "metadata": {},
   "source": [
    "Рассмотрим алгоритм классификации — логическая регрессия"
   ]
  },
  {
   "cell_type": "code",
   "execution_count": 130,
   "metadata": {},
   "outputs": [
    {
     "name": "stdout",
     "output_type": "stream",
     "text": [
      "0.7402799377916018\n"
     ]
    },
    {
     "name": "stderr",
     "output_type": "stream",
     "text": [
      "/opt/conda/lib/python3.7/site-packages/sklearn/linear_model/logistic.py:432: FutureWarning: Default solver will be changed to 'lbfgs' in 0.22. Specify a solver to silence this warning.\n",
      "  FutureWarning)\n"
     ]
    }
   ],
   "source": [
    "model_LR = LogisticRegression(random_state=12345)\n",
    "\n",
    "model_LR.fit(train_features, train_target)   \n",
    "predict_LR = model_LR.predict(valid_features)\n",
    "print(accuracy_score(valid_target, predict_LR))"
   ]
  },
  {
   "cell_type": "markdown",
   "metadata": {},
   "source": [
    "<font color=\"blue\">Конечно понятно какую ты модель тренируешь, но лучше в комменатриях прям прописать. Аля \"Рассмотрим дерево решений\" и дальше уже твой текст"
   ]
  },
  {
   "cell_type": "markdown",
   "metadata": {},
   "source": [
    "## 4. Проверьте модель на тестовой выборке"
   ]
  },
  {
   "cell_type": "markdown",
   "metadata": {},
   "source": [
    "выбираю случайный лес с `n_estimators=40`  \n",
    "проверяю модель на test"
   ]
  },
  {
   "cell_type": "code",
   "execution_count": 131,
   "metadata": {},
   "outputs": [],
   "source": [
    "model_RFC_60= RandomForestClassifier(random_state=12345, n_estimators=60)"
   ]
  },
  {
   "cell_type": "code",
   "execution_count": 132,
   "metadata": {},
   "outputs": [
    {
     "name": "stdout",
     "output_type": "stream",
     "text": [
      "0.7853810264385692\n"
     ]
    }
   ],
   "source": [
    "model_RFC_60.fit(train_features, train_target)   \n",
    "\n",
    "predict_RFC_60 = model_RFC_60.predict(test_features)\n",
    "print(accuracy_score(test_target, predict_RFC_60))"
   ]
  },
  {
   "cell_type": "markdown",
   "metadata": {},
   "source": [
    "score > 0.75"
   ]
  },
  {
   "cell_type": "markdown",
   "metadata": {},
   "source": [
    "## 5. (бонус) Проверьте модели на адекватность"
   ]
  },
  {
   "cell_type": "markdown",
   "metadata": {},
   "source": [
    "решил проверить критерием полноты"
   ]
  },
  {
   "cell_type": "markdown",
   "metadata": {},
   "source": [
    "<font color=\"green\">после изменения алгоритма разбиения,  `recall_score` изменился с 0,55 на 0,5079"
   ]
  },
  {
   "cell_type": "code",
   "execution_count": 133,
   "metadata": {},
   "outputs": [
    {
     "data": {
      "text/plain": [
       "0.5079365079365079"
      ]
     },
     "execution_count": 133,
     "metadata": {},
     "output_type": "execute_result"
    }
   ],
   "source": [
    "recall_score(test_target, predict_RFC_60)"
   ]
  },
  {
   "cell_type": "markdown",
   "metadata": {},
   "source": [
    "т.е. как я понимаю что доля объектов положительного класса из всех объектов положительного класса нашел алгоритм."
   ]
  },
  {
   "cell_type": "markdown",
   "metadata": {},
   "source": [
    "<font color=\"blue\">Ну вообще можно говорить об отсечки в 0.5. Поэтому 0.55 уже хорошо, но можно лучше. Вообще когда мы с тобой общались в слаке я думал немного о другом. Итак, мы строим тупую модель. Она что-то будет возращать. Т.к. модель тупая пусть она возращает нечто очень тривиальное. На эту модель тоже можно посчитать accuracу. Ну и потом сравнить. Фокус задачи не в расчёте и в сравнении параметров, это не так сложно. Фокус задачи в объяснении почему так и объяснении порога сравнения."
   ]
  },
  {
   "cell_type": "markdown",
   "metadata": {},
   "source": [
    "<font color=\"green\"> Как я понял, мы должны оценить возможжны ли такие ответы в принципе и дать как бы оценку сверху или снизу или порядок значений ответов. Но как это сделать я не догоняю))) "
   ]
  },
  {
   "cell_type": "markdown",
   "metadata": {},
   "source": [
    "<font color=\"blue\">Ок, разъясню. В выборке классы не сбалансированы. Давай представим что ты выдаешь константу доминантного класса. Алгоритм у тебя сразу покажет accuracy с его процентной долей. Формально замечаний нет по алгоритму, он основан на тех данных которые у тебя есть. Теперь ты строишь более сложный алгоритм, и он должен быть точнее. Монетка(50%) очень хороший пример т.к. тут 2 класса сбалансированы."
   ]
  },
  {
   "cell_type": "markdown",
   "metadata": {},
   "source": [
    "## Чек-лист готовности проекта"
   ]
  },
  {
   "cell_type": "markdown",
   "metadata": {},
   "source": [
    "Поставьте 'x' в выполненных пунктах. Далее нажмите Shift+Enter."
   ]
  },
  {
   "cell_type": "markdown",
   "metadata": {},
   "source": [
    "- [x] Jupyter Notebook открыт\n",
    "- [x] Весь код исполняется без ошибок\n",
    "- [x] Ячейки с кодом расположены в порядке исполнения\n",
    "- [x] Выполнено задание 1: данные загружены и изучены\n",
    "- [x] Выполнено задание 2: данные разбиты на три выборки\n",
    "- [ ] Выполнено задание 3: проведено исследование моделей\n",
    "    - [x] Рассмотрено больше одной модели\n",
    "    - [x] Рассмотрено хотя бы 3 значения гипепараметров для какой-нибудь модели\n",
    "    - [] Написаны выводы по результатам исследования\n",
    "- [x] Выполнено задание 3: Проведено тестирование\n",
    "- [x] Удалось достичь accuracy не меньше 0.75\n"
   ]
  },
  {
   "cell_type": "markdown",
   "metadata": {},
   "source": [
    "<font color=\"blue\">В целом хорошая работа. Но надо переделать разбиение данных на использование ``train_test_split``"
   ]
  }
 ],
 "metadata": {
  "kernelspec": {
   "display_name": "Python 3 (ipykernel)",
   "language": "python",
   "name": "python3"
  },
  "language_info": {
   "codemirror_mode": {
    "name": "ipython",
    "version": 3
   },
   "file_extension": ".py",
   "mimetype": "text/x-python",
   "name": "python",
   "nbconvert_exporter": "python",
   "pygments_lexer": "ipython3",
   "version": "3.9.5"
  },
  "toc": {
   "base_numbering": 1,
   "nav_menu": {},
   "number_sections": true,
   "sideBar": true,
   "skip_h1_title": true,
   "title_cell": "Table of Contents",
   "title_sidebar": "Contents",
   "toc_cell": false,
   "toc_position": {},
   "toc_section_display": true,
   "toc_window_display": false
  }
 },
 "nbformat": 4,
 "nbformat_minor": 2
}
