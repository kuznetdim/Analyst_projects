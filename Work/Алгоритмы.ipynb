{
 "cells": [
  {
   "cell_type": "code",
   "execution_count": null,
   "id": "a4ac8658",
   "metadata": {},
   "outputs": [],
   "source": [
    "# Спринт 1, C\n",
    "\n",
    "row_cnt = int(input())\n",
    "col_cnt = int(input())\n",
    "\n",
    "matrix = []\n",
    "for row in range(row_cnt):\n",
    "    matrix.append(input().split())\n",
    "\n",
    "element_row = int(input())\n",
    "element_col = int(input())\n",
    "\n",
    "\n",
    "def my_func(row_cnt, col_cnt, matrix, element_row, element_col):\n",
    "\n",
    "    answer_list = []\n",
    "\n",
    "    if (element_row - 1) >= 0:\n",
    "        answer_list.append(matrix[element_row - 1][element_col])\n",
    "\n",
    "    if (element_row + 1) < row_cnt:\n",
    "        answer_list.append(matrix[element_row + 1][element_col])\n",
    "\n",
    "    if (element_col - 1) >= 0:\n",
    "        answer_list.append(matrix[element_row][element_col - 1])\n",
    "\n",
    "    if (element_col + 1) < col_cnt:\n",
    "        answer_list.append(matrix[element_row][element_col + 1])\n",
    "    \n",
    "    answer_list = sorted(answer_list)\n",
    "\n",
    "    return answer_list\n",
    "\n",
    "my_list = my_func(row_cnt, col_cnt, matrix, element_row, element_col)\n",
    "my_list = [str(n) for n in my_list]\n",
    "my_str = ' '.join(my_list)\n",
    "print(my_str)"
   ]
  },
  {
   "cell_type": "code",
   "execution_count": null,
   "id": "fccf5dfc",
   "metadata": {},
   "outputs": [],
   "source": []
  },
  {
   "cell_type": "code",
   "execution_count": null,
   "id": "d508a88d",
   "metadata": {},
   "outputs": [],
   "source": [
    "for row in range(row_cnt):\n",
    "    cur_row = input().split()\n",
    "    cur_row = [int(n) for n in cur_row]\n",
    "    matrix.append(cur_row)"
   ]
  },
  {
   "cell_type": "code",
   "execution_count": null,
   "id": "413788ff",
   "metadata": {},
   "outputs": [],
   "source": []
  },
  {
   "cell_type": "code",
   "execution_count": null,
   "id": "f8f2a448",
   "metadata": {},
   "outputs": [],
   "source": [
    "row_cnt = int(input())\n",
    "col_cnt = int(input())"
   ]
  },
  {
   "cell_type": "code",
   "execution_count": null,
   "id": "34792a7f",
   "metadata": {},
   "outputs": [],
   "source": [
    "matrix = []\n",
    "for row in range(row_cnt):\n",
    "    matrix.append(input().split())"
   ]
  },
  {
   "cell_type": "code",
   "execution_count": null,
   "id": "41473748",
   "metadata": {},
   "outputs": [],
   "source": [
    "matrix"
   ]
  },
  {
   "cell_type": "code",
   "execution_count": null,
   "id": "deb1c059",
   "metadata": {},
   "outputs": [],
   "source": [
    "element_row = int(input())\n",
    "element_col = int(input())"
   ]
  },
  {
   "cell_type": "code",
   "execution_count": null,
   "id": "2b2049bf",
   "metadata": {},
   "outputs": [],
   "source": [
    "def my_func(row_cnt, col_cnt, matrix, element_row, element_col):\n",
    "\n",
    "    answer_list = []\n",
    "\n",
    "    if (element_row - 1) >= 0:\n",
    "        answer_list.append(matrix[element_row - 1][element_col])\n",
    "\n",
    "    if (element_row + 1) < row_cnt:\n",
    "        answer_list.append(matrix[element_row + 1][element_col])\n",
    "\n",
    "    if (element_col - 1) >= 0:\n",
    "        answer_list.append(matrix[element_row][element_col - 1])\n",
    "\n",
    "    if (element_col + 1) < col_cnt:\n",
    "        answer_list.append(matrix[element_row][element_col + 1])\n",
    "    \n",
    "    answer_list = sorted(answer_list)\n",
    "\n",
    "    return answer_list"
   ]
  },
  {
   "cell_type": "code",
   "execution_count": null,
   "id": "6c9ad54a",
   "metadata": {},
   "outputs": [],
   "source": [
    "my_list = my_func(row_cnt, col_cnt, matrix, element_row, element_col)\n",
    "my_list = [str(n) for n in my_list]\n",
    "my_str = ' '.join(my_list)\n",
    "print(my_str)"
   ]
  },
  {
   "cell_type": "code",
   "execution_count": null,
   "id": "2528a126",
   "metadata": {},
   "outputs": [],
   "source": []
  },
  {
   "cell_type": "code",
   "execution_count": null,
   "id": "7733d77c",
   "metadata": {},
   "outputs": [],
   "source": [
    "number = int(input())\n",
    "arr = list(map(int, input().split()))"
   ]
  },
  {
   "cell_type": "code",
   "execution_count": null,
   "id": "4a1d9a6b",
   "metadata": {},
   "outputs": [],
   "source": [
    "print(arr.index(max(arr))-arr.index(min(arr)))"
   ]
  },
  {
   "cell_type": "code",
   "execution_count": null,
   "id": "b33ffc61",
   "metadata": {},
   "outputs": [],
   "source": [
    "dist = []\n",
    "prev = str[0]\n",
    "for next in str[1:]:\n",
    "    dist.append(abs(ord(prev) - ord(next)))\n",
    "    prev = next\n",
    "return dist"
   ]
  },
  {
   "cell_type": "code",
   "execution_count": null,
   "id": "8170a165",
   "metadata": {},
   "outputs": [],
   "source": [
    "arr = list(map(int, input().split()))"
   ]
  },
  {
   "cell_type": "code",
   "execution_count": null,
   "id": "ea2e4a9c",
   "metadata": {},
   "outputs": [],
   "source": []
  },
  {
   "cell_type": "code",
   "execution_count": null,
   "id": "fddb8859",
   "metadata": {},
   "outputs": [],
   "source": []
  },
  {
   "cell_type": "code",
   "execution_count": null,
   "id": "e371a82c",
   "metadata": {},
   "outputs": [],
   "source": [
    "%%time\n",
    "f = open('input.txt','r')\n",
    "n = int(f.readlines()[0][:-1])\n",
    "f.close()\n",
    "f = open('input.txt','r')\n",
    "arr = f.readlines()[1]\n",
    "arr = list(map(int, arr.split()))\n",
    "f.close()"
   ]
  },
  {
   "cell_type": "code",
   "execution_count": null,
   "id": "5f17a039",
   "metadata": {},
   "outputs": [],
   "source": [
    "open(file).read().split('\\n')"
   ]
  },
  {
   "cell_type": "code",
   "execution_count": null,
   "id": "d68f9033",
   "metadata": {},
   "outputs": [],
   "source": [
    "%%time\n",
    "f = open('input.txt','r')\n",
    "line = f.read().split('\\n')\n",
    "f.close()\n",
    "n = int(line[0])\n",
    "arr = list(map(int, line[1].split()))"
   ]
  },
  {
   "cell_type": "code",
   "execution_count": null,
   "id": "fff1029c",
   "metadata": {},
   "outputs": [],
   "source": []
  },
  {
   "cell_type": "code",
   "execution_count": null,
   "id": "f548825f",
   "metadata": {},
   "outputs": [],
   "source": [
    "x = [1,2,3,4,5]"
   ]
  },
  {
   "cell_type": "code",
   "execution_count": null,
   "id": "c17c5066",
   "metadata": {},
   "outputs": [],
   "source": [
    "arr"
   ]
  },
  {
   "cell_type": "code",
   "execution_count": null,
   "id": "9d14b24f",
   "metadata": {},
   "outputs": [],
   "source": [
    "from random import randint\n",
    "arr = [randint(-1000, 1000) for i in range(1000000)]\n",
    "n = 1000000"
   ]
  },
  {
   "cell_type": "code",
   "execution_count": null,
   "id": "e31d9b61",
   "metadata": {},
   "outputs": [],
   "source": [
    "len(arr)"
   ]
  },
  {
   "cell_type": "code",
   "execution_count": null,
   "id": "a50ab5c7",
   "metadata": {},
   "outputs": [],
   "source": [
    "n"
   ]
  },
  {
   "cell_type": "code",
   "execution_count": null,
   "id": "bacf3326",
   "metadata": {},
   "outputs": [],
   "source": [
    "%%time\n",
    "ind_0 = []\n",
    "ind_1 = []\n",
    "for i in range(0,n):\n",
    "    if arr[i] == 0: ind_0.append(i)\n",
    "    else: ind_1.append(i)\n",
    "minim = []\n",
    "minim_0 = []\n",
    "for i in ind_1:   \n",
    "    for j in ind_0:\n",
    "        minim.append(abs(i-j))   \n",
    "    minim_0.append(min(minim)) \n",
    "    minim = []\n",
    "\n",
    "result = []\n",
    "\n",
    "j = 0\n",
    "while j < len(minim_0):\n",
    "    for i in range(0,n):\n",
    "        if arr[i] == 0: result.append(arr[i])\n",
    "        else: \n",
    "            result.append(minim_0[j])\n",
    "            j=j+1     "
   ]
  },
  {
   "cell_type": "code",
   "execution_count": null,
   "id": "97ab38da",
   "metadata": {},
   "outputs": [],
   "source": [
    "print(*result)"
   ]
  },
  {
   "cell_type": "code",
   "execution_count": null,
   "id": "1cbb45fa",
   "metadata": {},
   "outputs": [],
   "source": [
    "%%time\n",
    "f = open('output.txt', 'w')\n",
    "f.write(\" \".join(list(map(str, result))))\n",
    "f.close()"
   ]
  },
  {
   "cell_type": "code",
   "execution_count": null,
   "id": "8f0af9b8",
   "metadata": {},
   "outputs": [],
   "source": [
    "%%time\n",
    "print(\" \".join(list(map(str, result))))"
   ]
  },
  {
   "cell_type": "code",
   "execution_count": null,
   "id": "1ab80d89",
   "metadata": {},
   "outputs": [],
   "source": [
    "import numpy as np\n",
    "def func(lst):\n",
    "    lst=np.array(lst)\n",
    "    zeros = np.where(lst==0)[0]\n",
    "    for i in np.nonzero(lst)[0]:\n",
    "        lst[i] = min(np.abs(i-zeros))\n",
    "    return lst.tolist()"
   ]
  },
  {
   "cell_type": "code",
   "execution_count": null,
   "id": "17d6e9de",
   "metadata": {},
   "outputs": [],
   "source": [
    "%%time\n",
    "result = func(arr)"
   ]
  },
  {
   "cell_type": "code",
   "execution_count": null,
   "id": "cd071cfa",
   "metadata": {},
   "outputs": [],
   "source": [
    "result"
   ]
  },
  {
   "cell_type": "code",
   "execution_count": null,
   "id": "59c0185a",
   "metadata": {},
   "outputs": [],
   "source": [
    "import numpy as np\n",
    "f = open('input.txt','r')\n",
    "line = f.read().split('\\n')\n",
    "f.close()\n",
    "\n",
    "n = int(line[0])\n",
    "arr = list(map(int, line[1].split()))\n",
    "\n",
    "def func(lst):\n",
    "    lst=np.array(lst)\n",
    "    zeros = np.where(lst==0)[0]\n",
    "    for i in np.nonzero(lst)[0]:\n",
    "        lst[i] = min(np.abs(i-zeros))\n",
    "    return lst.tolist()\n",
    "\n",
    "result = func(arr)\n",
    "\n",
    "print(*result)"
   ]
  },
  {
   "cell_type": "code",
   "execution_count": null,
   "id": "2ef97f5f",
   "metadata": {},
   "outputs": [],
   "source": [
    "%%time\n",
    "f = open('input.txt','r')\n",
    "line = f.read().split('\\n')\n",
    "f.close()\n",
    "length_street = int(line[0])\n",
    "street = list(map(int, line[1].split()))"
   ]
  },
  {
   "cell_type": "code",
   "execution_count": null,
   "id": "f772fbba",
   "metadata": {},
   "outputs": [],
   "source": [
    "from random import randint\n",
    "street = [randint(-1000, 1000) for i in range(1000000)]\n",
    "length_street = 1000000"
   ]
  },
  {
   "cell_type": "code",
   "execution_count": null,
   "id": "fc367a13",
   "metadata": {},
   "outputs": [],
   "source": [
    "%%time\n",
    "distance = []\n",
    "zero_position = None\n",
    "for i, elem in enumerate(street):\n",
    "    if elem == 0:\n",
    "        zero_position = i\n",
    "        distance.append(0)\n",
    "        continue\n",
    "    if (elem != 0 and zero_position != None):\n",
    "        distance.append(i - zero_position)\n",
    "    else:\n",
    "        distance.append(length_street)\n",
    "zero_position = None\n",
    "for i, elem in reversed(list(enumerate(street))):\n",
    "    if elem == 0:\n",
    "        zero_position = i\n",
    "        continue\n",
    "    if (elem != 0 and zero_position != None and distance[i] > zero_position - i):\n",
    "        distance[i] = (zero_position - i)\n"
   ]
  },
  {
   "cell_type": "code",
   "execution_count": null,
   "id": "2dfb6805",
   "metadata": {},
   "outputs": [],
   "source": [
    "street"
   ]
  },
  {
   "cell_type": "code",
   "execution_count": null,
   "id": "8832fa5c",
   "metadata": {},
   "outputs": [],
   "source": [
    "distance = []\n",
    "zero_position = None\n",
    "for i, elem in enumerate(street):\n",
    "    if elem == 0:\n",
    "        zero_position = i\n",
    "        distance.append(0)\n",
    "        continue\n",
    "    if (elem != 0 and zero_position != None):\n",
    "        distance.append(i - zero_position)"
   ]
  },
  {
   "cell_type": "code",
   "execution_count": null,
   "id": "c0995bfa",
   "metadata": {},
   "outputs": [],
   "source": [
    "print(*distance)"
   ]
  },
  {
   "cell_type": "code",
   "execution_count": null,
   "id": "1efa06e6",
   "metadata": {},
   "outputs": [],
   "source": [
    "zero_position = None\n",
    "distance1 = []\n",
    "for i, elem in reversed(list(enumerate(street))):\n",
    "    print('i=',i)\n",
    "    print('elem=',elem)\n",
    "    if elem == 0:\n",
    "        zero_position = i\n",
    "        print(zero_position)\n",
    "        continue\n",
    "    if (elem != 0 and zero_position != None and distance[i] > (zero_position - i) ) :\n",
    "        print('dist до',distance[i])\n",
    "        distance[i] = (zero_position - i)\n",
    "        print('dist после',distance[i])"
   ]
  },
  {
   "cell_type": "code",
   "execution_count": null,
   "id": "9b72faf3",
   "metadata": {},
   "outputs": [],
   "source": [
    "distance"
   ]
  },
  {
   "cell_type": "code",
   "execution_count": null,
   "id": "63db6db5",
   "metadata": {},
   "outputs": [],
   "source": [
    "street"
   ]
  },
  {
   "cell_type": "code",
   "execution_count": null,
   "id": "ba5cef8f",
   "metadata": {},
   "outputs": [],
   "source": [
    "street[::-1]"
   ]
  },
  {
   "cell_type": "code",
   "execution_count": null,
   "id": "f350cc1c",
   "metadata": {},
   "outputs": [],
   "source": [
    "for i, elem in enumerate(street[::-1]):\n",
    "    print('i=',i)\n",
    "    print('elem=',elem)"
   ]
  },
  {
   "cell_type": "code",
   "execution_count": null,
   "id": "24066e6e",
   "metadata": {},
   "outputs": [],
   "source": [
    "for i, elem in reversed(list(enumerate(street))):\n",
    "    print('i=',i)\n",
    "    print('elem=',elem)"
   ]
  },
  {
   "cell_type": "code",
   "execution_count": null,
   "id": "aa0ecb02",
   "metadata": {},
   "outputs": [],
   "source": [
    "field = \"\".join(input() for _ in range(2))"
   ]
  },
  {
   "cell_type": "code",
   "execution_count": null,
   "id": "4223fe9d",
   "metadata": {},
   "outputs": [],
   "source": [
    "field"
   ]
  },
  {
   "cell_type": "code",
   "execution_count": null,
   "id": "4f836b09",
   "metadata": {},
   "outputs": [],
   "source": [
    "field.count(str(1))"
   ]
  },
  {
   "cell_type": "code",
   "execution_count": null,
   "id": "cc881453",
   "metadata": {},
   "outputs": [],
   "source": [
    "can_press"
   ]
  },
  {
   "cell_type": "code",
   "execution_count": null,
   "id": "f5345f7c",
   "metadata": {},
   "outputs": [],
   "source": [
    "can_press=k*2\n",
    "points = 0\n",
    "for i in range(1, 10):\n",
    "    curr_table = field.count(str(i))\n",
    "    print(curr_table)\n",
    "    if 0 < curr_table <= can_press:\n",
    "        points += 1"
   ]
  },
  {
   "cell_type": "code",
   "execution_count": null,
   "id": "6b7d0498",
   "metadata": {},
   "outputs": [],
   "source": [
    "points"
   ]
  },
  {
   "cell_type": "code",
   "execution_count": null,
   "id": "50701389",
   "metadata": {},
   "outputs": [],
   "source": [
    "k = int(input())\n",
    "field = \"\".join(input() for _ in range(4))"
   ]
  },
  {
   "cell_type": "code",
   "execution_count": null,
   "id": "22e0a7ee",
   "metadata": {},
   "outputs": [],
   "source": [
    "len(field)"
   ]
  },
  {
   "cell_type": "code",
   "execution_count": null,
   "id": "3d5f90da",
   "metadata": {},
   "outputs": [],
   "source": [
    "field"
   ]
  },
  {
   "cell_type": "code",
   "execution_count": null,
   "id": "32486074",
   "metadata": {},
   "outputs": [],
   "source": [
    "entries = [0] * 9"
   ]
  },
  {
   "cell_type": "code",
   "execution_count": null,
   "id": "f3087db5",
   "metadata": {},
   "outputs": [],
   "source": [
    "entries"
   ]
  },
  {
   "cell_type": "code",
   "execution_count": null,
   "id": "c8e4fd76",
   "metadata": {},
   "outputs": [],
   "source": [
    "for i, item in enumerate(field):\n",
    "    entries[int(item)-1] += 1    "
   ]
  },
  {
   "cell_type": "code",
   "execution_count": null,
   "id": "1cb9fc57",
   "metadata": {},
   "outputs": [],
   "source": [
    "entries"
   ]
  },
  {
   "cell_type": "code",
   "execution_count": null,
   "id": "48a7908b",
   "metadata": {},
   "outputs": [],
   "source": [
    "can_press=k*2"
   ]
  },
  {
   "cell_type": "code",
   "execution_count": null,
   "id": "40f9718e",
   "metadata": {},
   "outputs": [],
   "source": [
    "can_press"
   ]
  },
  {
   "cell_type": "code",
   "execution_count": null,
   "id": "c615b630",
   "metadata": {},
   "outputs": [],
   "source": [
    "points = 0\n",
    "for i, item in enumerate(entries):\n",
    "    print(item)\n",
    "    if 0 < item <= can_press:\n",
    "        points += 1"
   ]
  },
  {
   "cell_type": "code",
   "execution_count": null,
   "id": "ad74a933",
   "metadata": {},
   "outputs": [],
   "source": [
    "field"
   ]
  },
  {
   "cell_type": "code",
   "execution_count": null,
   "id": "6d33f6ab",
   "metadata": {},
   "outputs": [],
   "source": [
    "a = '1'"
   ]
  },
  {
   "cell_type": "code",
   "execution_count": null,
   "id": "0fa22c18",
   "metadata": {},
   "outputs": [],
   "source": [
    "b = '.'"
   ]
  },
  {
   "cell_type": "code",
   "execution_count": null,
   "id": "034e39e8",
   "metadata": {},
   "outputs": [],
   "source": [
    "type(a)"
   ]
  },
  {
   "cell_type": "code",
   "execution_count": null,
   "id": "6d0e497f",
   "metadata": {},
   "outputs": [],
   "source": [
    "type(int(b))"
   ]
  },
  {
   "cell_type": "code",
   "execution_count": null,
   "id": "1a932ce5",
   "metadata": {},
   "outputs": [],
   "source": [
    "entries = [0] * 9\n",
    "for i, item in enumerate(field):\n",
    "    if item.isdigit():\n",
    "        entries[int(item)-1] += 1 \n",
    "   "
   ]
  },
  {
   "cell_type": "code",
   "execution_count": null,
   "id": "483787d0",
   "metadata": {},
   "outputs": [],
   "source": [
    "for item in field:\n",
    "    print(item)"
   ]
  },
  {
   "cell_type": "code",
   "execution_count": null,
   "id": "cddc3249",
   "metadata": {},
   "outputs": [],
   "source": [
    "field = \"\".join(input() for _ in range(4))"
   ]
  },
  {
   "cell_type": "code",
   "execution_count": null,
   "id": "7c7739f2",
   "metadata": {},
   "outputs": [],
   "source": [
    "entries = [0] * 9"
   ]
  },
  {
   "cell_type": "code",
   "execution_count": null,
   "id": "cee6c039",
   "metadata": {},
   "outputs": [],
   "source": [
    "for _ in range(4):\n",
    "    for item in input(): \n",
    "        if item.isdigit():\n",
    "            entries[int(item)-1] += 1 "
   ]
  },
  {
   "cell_type": "code",
   "execution_count": null,
   "id": "af4382e5",
   "metadata": {},
   "outputs": [],
   "source": [
    "entries"
   ]
  },
  {
   "cell_type": "code",
   "execution_count": null,
   "id": "eb153f37",
   "metadata": {},
   "outputs": [],
   "source": [
    "k = int(input())\n",
    "\n",
    "entries = [0] * 9\n",
    "can_press=k*2\n",
    "points = 0\n",
    "\n",
    "for _ in range(4):\n",
    "    for item in input(): \n",
    "        if item.isdigit():\n",
    "            entries[int(item)-1] += 1 \n",
    "            \n",
    "for item in entries:\n",
    "    if 0 < item <= can_press:\n",
    "        points += 1\n",
    "\n",
    "print(points)"
   ]
  },
  {
   "cell_type": "code",
   "execution_count": null,
   "id": "a9b22b4f",
   "metadata": {},
   "outputs": [],
   "source": [
    "# visitors - массив номеров пассажиров.\n",
    "# Каждый пассажир проехал столько раз, сколько раз встречается его номер\n",
    "visitors = [0,2,3,2,0,4,1,1,2]\n",
    "entries_by_visitor = [0] * 5\n",
    "best_visitor = 0\n",
    "\n",
    "for visitor in visitors:\n",
    "    entries_by_visitor[visitor] += 1\n",
    "    if entries_by_visitor[visitor] > entries_by_visitor[best_visitor]:\n",
    "        best_visitor = visitor\n",
    "\n",
    "print(best_visitor) "
   ]
  },
  {
   "cell_type": "code",
   "execution_count": null,
   "id": "173f4088",
   "metadata": {},
   "outputs": [],
   "source": [
    "f = open('input.txt','r')\n",
    "line = f.read().split('\\n')\n",
    "f.close()\n",
    "length_street = int(line[0])\n",
    "street = list(map(int, line[1].split()))\n",
    "\n",
    "distance = []\n",
    "zero_position = None\n",
    "for i, elem in enumerate(street):\n",
    "    if elem == 0:\n",
    "        zero_position = i\n",
    "        distance.append(0)\n",
    "    elif (zero_position != None):\n",
    "        distance.append(i - zero_position)\n",
    "    else:\n",
    "        distance.append(length_street)\n",
    "zero_position = None\n",
    "for i, elem in reversed(list(enumerate(street))):\n",
    "    if elem == 0:\n",
    "        zero_position = i\n",
    "    elif (zero_position != None and distance[i] > (zero_position - i)):\n",
    "        distance[i] = (zero_position - i)\n",
    "print(*distance)"
   ]
  },
  {
   "cell_type": "code",
   "execution_count": null,
   "id": "23dcc1a2",
   "metadata": {
    "scrolled": true
   },
   "outputs": [],
   "source": [
    "s = input()\n",
    "\n",
    "len(s)\n",
    "\n",
    "left_index = 0\n",
    "right_index  = len(s)-1\n",
    "\n",
    "is_palindrome = True\n",
    "\n",
    "while left_index < right_index:\n",
    "    \n",
    "    while not s[left_index].isalpha():\n",
    "        left_index +=1\n",
    "        \n",
    "    while not s[right_index].isalpha():\n",
    "        right_index -=1\n",
    "    \n",
    "    if s[left_index].lower() != s[right_index].lower():\n",
    "        is_palindrome = False\n",
    "        break\n",
    "        \n",
    "    left_index +=1\n",
    "    right_index-=1   \n",
    "\n",
    "print(is_palindrome)"
   ]
  },
  {
   "cell_type": "code",
   "execution_count": null,
   "id": "ebd166d4",
   "metadata": {},
   "outputs": [],
   "source": [
    "def h():\n",
    "    print(\"- H\")\n",
    "    print(\"- 12\")\n",
    "    print(\"H - end\")\n",
    "\n",
    "def f():\n",
    "    print(\"- F\")\n",
    "    g(h)\n",
    "    print(\"F - end\")\n",
    "\n",
    "def g(a):\n",
    "    print(\"- G - \",a)\n",
    "    a()\n",
    "    print(\"G - end\")\n",
    "\n",
    "print(\"\\nMODULE\")\n",
    "g(f)"
   ]
  },
  {
   "cell_type": "code",
   "execution_count": null,
   "id": "eb9734df",
   "metadata": {},
   "outputs": [],
   "source": [
    "mystack = ['module']\n",
    "def h():\n",
    "    mystack.append(\"h\")\n",
    "    print(\"The beginning of h function is: {}\".format(mystack))\n",
    "    print(12)\n",
    "    mystack.append(\"print\")\n",
    "    print(\"The beginning of print function is: {}\".format(mystack))\n",
    "    mystack.pop()\n",
    "    print(\"The end of print function is: {}\".format(mystack))\n",
    "    mystack.pop()\n",
    "    print(\"The end of h function is: {}\".format(mystack))\n",
    "\n",
    "def f():\n",
    "    mystack.append(\"f\")\n",
    "    print(\"The beginning of f function is: {}\".format(mystack))\n",
    "    g(h)\n",
    "    mystack.pop()\n",
    "    print(\"The end of f function is: {}\".format(mystack))\n",
    "    \n",
    "\n",
    "def g(a):\n",
    "    mystack.append(\"g\")\n",
    "    print(\"The beginning of g function is: \".format(mystack))\n",
    "    a()\n",
    "    mystack.pop()\n",
    "    print(\"The end of g function is: {}\".format(mystack))\n",
    "g(f)"
   ]
  },
  {
   "cell_type": "code",
   "execution_count": null,
   "id": "d246f256",
   "metadata": {},
   "outputs": [],
   "source": [
    "class Counter:\n",
    "    def __init__(self, start=3):\n",
    "        self.count = start\n",
    "    def inc(self):\n",
    "        self.count+=1"
   ]
  },
  {
   "cell_type": "code",
   "execution_count": null,
   "id": "85b201c3",
   "metadata": {},
   "outputs": [],
   "source": [
    "x=Counter()"
   ]
  },
  {
   "cell_type": "code",
   "execution_count": null,
   "id": "da46a9fc",
   "metadata": {},
   "outputs": [],
   "source": [
    "# x.count = 10"
   ]
  },
  {
   "cell_type": "code",
   "execution_count": null,
   "id": "cd71f2cd",
   "metadata": {},
   "outputs": [],
   "source": [
    "print(x.count)"
   ]
  },
  {
   "cell_type": "code",
   "execution_count": null,
   "id": "204a1981",
   "metadata": {},
   "outputs": [],
   "source": [
    "x.inc()"
   ]
  },
  {
   "cell_type": "code",
   "execution_count": null,
   "id": "cd1250ff",
   "metadata": {},
   "outputs": [],
   "source": [
    "Counter.inc(x)"
   ]
  },
  {
   "cell_type": "code",
   "execution_count": null,
   "id": "eb368545",
   "metadata": {},
   "outputs": [],
   "source": [
    "x = [1, 2, 3]\n"
   ]
  },
  {
   "cell_type": "code",
   "execution_count": null,
   "id": "a52f4c26",
   "metadata": {},
   "outputs": [],
   "source": [
    "x.extend([4, 5])\n",
    "print(x)"
   ]
  },
  {
   "cell_type": "markdown",
   "id": "80364481",
   "metadata": {},
   "source": [
    "### Связные списки"
   ]
  },
  {
   "cell_type": "code",
   "execution_count": null,
   "id": "24fba411",
   "metadata": {},
   "outputs": [],
   "source": [
    "class Node:\n",
    "    def __init__(self, value, next_item=None):\n",
    "        self.value = value\n",
    "        self.next_item = next_item"
   ]
  },
  {
   "cell_type": "code",
   "execution_count": null,
   "id": "21ece078",
   "metadata": {},
   "outputs": [],
   "source": [
    "def solution_p(node):\n",
    "    while node:\n",
    "        print(node.value)\n",
    "        node = node.next_item\n",
    "    pass"
   ]
  },
  {
   "cell_type": "code",
   "execution_count": null,
   "id": "5da97ea9",
   "metadata": {},
   "outputs": [],
   "source": [
    "def get_node_by_index(node, index):\n",
    "        while index:\n",
    "            print(index)\n",
    "            node = node.next_item\n",
    "            index -= 1\n",
    "        print(node.value)    \n",
    "        return node\n",
    "\n",
    "def insert_node(head, index, value):\n",
    "        new_node = Node(value)\n",
    "        if index == 0:\n",
    "            new_node.next_item = head\n",
    "            return new_node\n",
    "        previous_node = get_node_by_index(head, index-1)\n",
    "        new_node.next_item = previous_node.next_item \n",
    "        previous_node.next_item = new_node\n",
    "        return head"
   ]
  },
  {
   "cell_type": "code",
   "execution_count": null,
   "id": "c53d0b42",
   "metadata": {},
   "outputs": [],
   "source": [
    "def del_node(head, index):\n",
    "    if index == 0:\n",
    "        head = head.next_item\n",
    "        return head\n",
    "    prv_node = head\n",
    "    while index-1:\n",
    "        print(index)\n",
    "        prv_node = prv_node.next_item\n",
    "        index -= 1\n",
    "    idx_node = prv_node.next_item\n",
    "    prv_node.next_item = idx_node.next_item\n",
    "    return head\n",
    "#     print(prv_node.value)\n",
    "#     print(idx_node.value)\n",
    "#     print(next_node.value)"
   ]
  },
  {
   "cell_type": "code",
   "execution_count": null,
   "id": "2437fdee",
   "metadata": {},
   "outputs": [],
   "source": [
    "def idx_node(head, index):\n",
    "    if index == 0:\n",
    "        head = head.next_item\n",
    "        return head\n",
    "    prv_node = head\n",
    "    while index-1:\n",
    "        print(index)\n",
    "        prv_node = prv_node.next_item\n",
    "        index -= 1\n",
    "    idx_node = prv_node.next_item\n",
    "    prv_node.next_item = idx_node.next_item\n",
    "    return head"
   ]
  },
  {
   "cell_type": "code",
   "execution_count": null,
   "id": "73472d01",
   "metadata": {},
   "outputs": [],
   "source": [
    "def idx_node(head, elem):\n",
    "    idx = 0\n",
    "    while head:\n",
    "        if head.value == elem: return idx\n",
    "        head = head.next_item\n",
    "        idx +=1\n",
    "    return -1"
   ]
  },
  {
   "cell_type": "code",
   "execution_count": null,
   "id": "d89cda3a",
   "metadata": {},
   "outputs": [],
   "source": []
  },
  {
   "cell_type": "code",
   "execution_count": null,
   "id": "9638effc",
   "metadata": {},
   "outputs": [],
   "source": [
    "# Comment it before submitting\n",
    "class DoubleConnectedNode:  \n",
    "    def __init__(self, value, next=None, prev=None):  \n",
    "        self.value = value  \n",
    "        self.next = next  \n",
    "        self.prev = prev\n"
   ]
  },
  {
   "cell_type": "code",
   "execution_count": null,
   "id": "0afc3101",
   "metadata": {},
   "outputs": [],
   "source": [
    "def solution_p(node):\n",
    "    while node:\n",
    "        print(node.value)\n",
    "        node = node.next\n",
    "    pass"
   ]
  },
  {
   "cell_type": "code",
   "execution_count": null,
   "id": "04a531f2",
   "metadata": {},
   "outputs": [],
   "source": [
    "def solution_reversed(node):\n",
    "    while node:\n",
    "        node.next, node.prev =  node.prev, node.next\n",
    "        head = node\n",
    "        node = node.prev\n",
    "    return head        "
   ]
  },
  {
   "cell_type": "code",
   "execution_count": null,
   "id": "3b8f14a6",
   "metadata": {},
   "outputs": [],
   "source": [
    "solution_reversed(node3).value"
   ]
  },
  {
   "cell_type": "code",
   "execution_count": null,
   "id": "6bf6f9a0",
   "metadata": {},
   "outputs": [],
   "source": []
  },
  {
   "cell_type": "code",
   "execution_count": null,
   "id": "197819a7",
   "metadata": {},
   "outputs": [],
   "source": [
    "node3 = DoubleConnectedNode(\"node3\")\n",
    "node2 = DoubleConnectedNode(\"node2\")\n",
    "node1 = DoubleConnectedNode(\"node1\")\n",
    "node0 = DoubleConnectedNode(\"node0\")\n",
    "\n",
    "node0.next = node1\n",
    "node1.prev = node0\n",
    "node1.next = node2\n",
    "node2.prev = node1\n",
    "node2.next = node3\n",
    "node3.prev = node2"
   ]
  },
  {
   "cell_type": "code",
   "execution_count": null,
   "id": "3fbb5fab",
   "metadata": {
    "scrolled": false
   },
   "outputs": [],
   "source": [
    "# solution_p(node3)"
   ]
  },
  {
   "cell_type": "code",
   "execution_count": null,
   "id": "a163d351",
   "metadata": {},
   "outputs": [],
   "source": [
    "\n",
    "node0.next = node1\n",
    "\n",
    "node1.prev = node0\n",
    "node1.next = node2\n",
    "\n",
    "node2.prev = node1\n",
    "node2.next = node3\n",
    "\n",
    "node3.prev = node2\n",
    "new_head = solution(node0)\n",
    "# result is new_head == node3\n",
    "# node3.next == node2\n",
    "# node2.next == node1 node2.prev == node3\n",
    "# node1.next == node0 node1.prev == node2\n",
    "# node0.prev == node1"
   ]
  },
  {
   "cell_type": "code",
   "execution_count": null,
   "id": "2a09e905",
   "metadata": {},
   "outputs": [],
   "source": [
    "node3 = DoubleConnectedNode(\"node3\", None)\n",
    "node2 = DoubleConnectedNode(\"node2\", node3)\n",
    "node1 = DoubleConnectedNode(\"node1\", node2)\n",
    "node0 = DoubleConnectedNode(\"node0\", node1)"
   ]
  },
  {
   "cell_type": "code",
   "execution_count": null,
   "id": "7f275fcf",
   "metadata": {},
   "outputs": [],
   "source": [
    "solution_p(node0)"
   ]
  },
  {
   "cell_type": "code",
   "execution_count": null,
   "id": "98104c71",
   "metadata": {},
   "outputs": [],
   "source": [
    "idx = idx_node(node0, \"node4\")\n",
    "idx"
   ]
  },
  {
   "cell_type": "code",
   "execution_count": null,
   "id": "658b0020",
   "metadata": {},
   "outputs": [],
   "source": [
    "del_node(node0, 1).value"
   ]
  },
  {
   "cell_type": "code",
   "execution_count": null,
   "id": "378b7e2b",
   "metadata": {},
   "outputs": [],
   "source": [
    "# nd = get_node_by_index(node1, 3)\n",
    "# print(nd.value)"
   ]
  },
  {
   "cell_type": "code",
   "execution_count": null,
   "id": "9a0c6ad6",
   "metadata": {},
   "outputs": [],
   "source": [
    "head = del_node(node0, 2)"
   ]
  },
  {
   "cell_type": "code",
   "execution_count": null,
   "id": "1012a9d7",
   "metadata": {},
   "outputs": [],
   "source": [
    "solution(head)"
   ]
  },
  {
   "cell_type": "markdown",
   "id": "62b39e82",
   "metadata": {},
   "source": [
    "### Стек"
   ]
  },
  {
   "cell_type": "code",
   "execution_count": null,
   "id": "f0859a95",
   "metadata": {},
   "outputs": [],
   "source": [
    "class Stack:\n",
    "    def __init__(self):\n",
    "         self.items = []\n",
    "\n",
    "    def push(self, item):\n",
    "         self.items.append(item)\n",
    "\n",
    "    def pop(self):\n",
    "         return self.items.pop()\n",
    "\n",
    "    def peek(self):\n",
    "         return self.items[-1]\n",
    "\n",
    "    def size(self):\n",
    "         return len(self.items)"
   ]
  },
  {
   "cell_type": "code",
   "execution_count": null,
   "id": "6fbce3b8",
   "metadata": {},
   "outputs": [],
   "source": [
    "stack = Stack()\n",
    "stack.push('apple')\n",
    "stack.push('banana')\n",
    "stack.push('orange') "
   ]
  },
  {
   "cell_type": "code",
   "execution_count": null,
   "id": "107fabf2",
   "metadata": {},
   "outputs": [],
   "source": [
    "stack.peek()"
   ]
  },
  {
   "cell_type": "code",
   "execution_count": null,
   "id": "a59f7e36",
   "metadata": {},
   "outputs": [],
   "source": [
    "stack.size()"
   ]
  },
  {
   "cell_type": "code",
   "execution_count": null,
   "id": "4688f659",
   "metadata": {},
   "outputs": [],
   "source": [
    "stack.pop()"
   ]
  },
  {
   "cell_type": "code",
   "execution_count": null,
   "id": "157ac361",
   "metadata": {},
   "outputs": [],
   "source": [
    "k = int(input())\n",
    "\n",
    "entries = [0] * 9\n",
    "\n",
    "for _ in range(k):\n",
    "    for item in input(): \n",
    "        if item.isdigit():\n",
    "            entries[int(item)-1] += 1 \n",
    "            \n",
    "for item in entries:\n",
    "    if 0 < item <= can_press:\n",
    "        points += 1\n",
    "\n",
    "print(points)"
   ]
  },
  {
   "cell_type": "code",
   "execution_count": null,
   "id": "febd9bd2",
   "metadata": {},
   "outputs": [],
   "source": [
    "%%time\n",
    "f = open('output.txt', 'w')\n",
    "f.write(\" \".join(list(map(str, result))))\n",
    "f.close()"
   ]
  },
  {
   "cell_type": "code",
   "execution_count": null,
   "id": "6fd76a8c",
   "metadata": {},
   "outputs": [],
   "source": [
    "class Stack:\n",
    "    def __init__(self):\n",
    "         self.items = []\n",
    "\n",
    "    def push(self, item):\n",
    "         self.items.append(item)\n",
    "\n",
    "    def pop(self):\n",
    "         return self.items.pop()\n",
    "\n",
    "    def peek(self):\n",
    "         return self.items[-1]\n",
    "\n",
    "    def size(self):\n",
    "         return len(self.items)\n",
    "        \n",
    "    def get_max(self):\n",
    "        if self.size == 0: return 'None'\n",
    "        else: return max(self.items)\n",
    "        \n",
    "    def empty(self):\n",
    "        if self.size() == 0: return True\n",
    "        else: return False"
   ]
  },
  {
   "cell_type": "code",
   "execution_count": null,
   "id": "e9fab7bc",
   "metadata": {},
   "outputs": [],
   "source": [
    "class StackMax:\n",
    "    def __init__(self):\n",
    "         self.items = []\n",
    "\n",
    "    def push(self, item):\n",
    "        if self.empty():\n",
    "            self.items.append(item)\n",
    "        else: self.items.append(max(item, self.peek()))\n",
    "        \n",
    "    def pop(self):\n",
    "         return self.items.pop()\n",
    "\n",
    "    def peek(self):\n",
    "         return self.items[-1]\n",
    "\n",
    "    def size(self):\n",
    "         return len(self.items)\n",
    "        \n",
    "    def empty(self):\n",
    "        if self.size() == 0: return True\n",
    "        else: return False"
   ]
  },
  {
   "cell_type": "code",
   "execution_count": null,
   "id": "e91fa67f",
   "metadata": {},
   "outputs": [],
   "source": [
    "# stack = Stack()\n",
    "stack_m = StackMax()"
   ]
  },
  {
   "cell_type": "code",
   "execution_count": null,
   "id": "86ab9f30",
   "metadata": {},
   "outputs": [],
   "source": [
    "stack.push(1)\n",
    "stack.push(5)\n",
    "stack.push(2)"
   ]
  },
  {
   "cell_type": "code",
   "execution_count": null,
   "id": "3790a95a",
   "metadata": {},
   "outputs": [],
   "source": [
    "stack.size()"
   ]
  },
  {
   "cell_type": "code",
   "execution_count": null,
   "id": "9f968f12",
   "metadata": {},
   "outputs": [],
   "source": [
    "stack.peek()"
   ]
  },
  {
   "cell_type": "code",
   "execution_count": null,
   "id": "bd90f3dc",
   "metadata": {
    "scrolled": true
   },
   "outputs": [],
   "source": [
    "k = int(input())\n",
    "for i in range(k):\n",
    "    arr = list(map(str, input().split()))\n",
    "    if arr[0] == 'push': \n",
    "        stack_m.push(int(arr[1]))\n",
    "    elif arr[0] == 'get_max':\n",
    "        if stack_m.empty():\n",
    "            print('None')\n",
    "        else: print(stack_m.peek())\n",
    "    elif arr[0] == 'pop':\n",
    "        if stack_m.empty(): \n",
    "            print('error')\n",
    "        else: \n",
    "            stack_m.pop()"
   ]
  },
  {
   "cell_type": "code",
   "execution_count": null,
   "id": "1d458021",
   "metadata": {},
   "outputs": [],
   "source": [
    "stack.empty() "
   ]
  },
  {
   "cell_type": "code",
   "execution_count": null,
   "id": "8b8c9158",
   "metadata": {},
   "outputs": [],
   "source": [
    "stack.size()"
   ]
  },
  {
   "cell_type": "code",
   "execution_count": null,
   "id": "4c47ad56",
   "metadata": {},
   "outputs": [],
   "source": [
    "del stack"
   ]
  },
  {
   "cell_type": "code",
   "execution_count": null,
   "id": "2337eca0",
   "metadata": {},
   "outputs": [],
   "source": [
    "g = [4, 6, 7]"
   ]
  },
  {
   "cell_type": "code",
   "execution_count": null,
   "id": "3f37af3f",
   "metadata": {},
   "outputs": [],
   "source": [
    "g.pop()"
   ]
  },
  {
   "cell_type": "code",
   "execution_count": null,
   "id": "e8111657",
   "metadata": {},
   "outputs": [],
   "source": [
    "g.pop()"
   ]
  },
  {
   "cell_type": "code",
   "execution_count": null,
   "id": "86621c87",
   "metadata": {},
   "outputs": [],
   "source": [
    "import sys\n",
    "num_lines = int(input())\n"
   ]
  },
  {
   "cell_type": "code",
   "execution_count": null,
   "id": "f1ccaf21",
   "metadata": {},
   "outputs": [],
   "source": [
    "line = sys.stdin.readline().rstrip()"
   ]
  },
  {
   "cell_type": "code",
   "execution_count": null,
   "id": "2d839b3b",
   "metadata": {},
   "outputs": [],
   "source": [
    "line"
   ]
  },
  {
   "cell_type": "code",
   "execution_count": null,
   "id": "c32ffb1a",
   "metadata": {},
   "outputs": [],
   "source": [
    "words"
   ]
  },
  {
   "cell_type": "code",
   "execution_count": null,
   "id": "1769358e",
   "metadata": {},
   "outputs": [],
   "source": []
  },
  {
   "cell_type": "code",
   "execution_count": null,
   "id": "3e8b9acc",
   "metadata": {},
   "outputs": [],
   "source": [
    "class Queue:\n",
    "    def __init__(self, n):\n",
    "        self.queue = [None] * n\n",
    "        self.max_n = n\n",
    "        self.head = 0\n",
    "        self.tail = 0\n",
    "        self.size = 0 \n",
    "    def is_empty(self):\n",
    "        return self.size == 0\n",
    "    def push(self, x):\n",
    "        if self.size != self.max_n:\n",
    "            self.queue[self.tail] = x\n",
    "            self.tail = (self.tail + 1) % self.max_n\n",
    "            self.size += 1 \n",
    "    def pop(self):\n",
    "        if self.is_empty():\n",
    "            return None\n",
    "        x = self.queue[self.head]\n",
    "        self.queue[self.head] = None\n",
    "        self.head = (self.head + 1) % self.max_n\n",
    "        self.size -= 1\n",
    "        return x "
   ]
  },
  {
   "cell_type": "code",
   "execution_count": null,
   "id": "2405f93c",
   "metadata": {},
   "outputs": [],
   "source": [
    "q = Queue(8) "
   ]
  },
  {
   "cell_type": "code",
   "execution_count": null,
   "id": "c78acbae",
   "metadata": {},
   "outputs": [],
   "source": [
    "q.tail"
   ]
  },
  {
   "cell_type": "code",
   "execution_count": null,
   "id": "ef466636",
   "metadata": {},
   "outputs": [],
   "source": [
    "q.push(3)\n",
    "q.push(-1)\n",
    "q.push(0)\n",
    "q.push(11)"
   ]
  },
  {
   "cell_type": "code",
   "execution_count": null,
   "id": "e2abf693",
   "metadata": {},
   "outputs": [],
   "source": [
    "print(q.queue)"
   ]
  },
  {
   "cell_type": "code",
   "execution_count": null,
   "id": "486f5725",
   "metadata": {},
   "outputs": [],
   "source": [
    "print(q.size) "
   ]
  },
  {
   "cell_type": "code",
   "execution_count": null,
   "id": "3e58f777",
   "metadata": {},
   "outputs": [],
   "source": [
    "q.pop()"
   ]
  },
  {
   "cell_type": "code",
   "execution_count": null,
   "id": "33bf4336",
   "metadata": {},
   "outputs": [],
   "source": [
    "q.pop()\n",
    "q.pop()\n",
    "q.push(-8)\n",
    "q.push(7)\n",
    "q.push(3)\n",
    "q.push(16)\n",
    "print(q.queue) # [None, None, None, 11, -8, 7, 3, 16]\n",
    "print(q.size) # 5"
   ]
  },
  {
   "cell_type": "code",
   "execution_count": null,
   "id": "49a35325",
   "metadata": {},
   "outputs": [],
   "source": [
    "def func(step):\n",
    "    print('Call me. Step:', step)\n",
    "\n",
    "func(1)\n",
    "func(2)\n",
    "func(3)"
   ]
  },
  {
   "cell_type": "code",
   "execution_count": null,
   "id": "8dd13a1c",
   "metadata": {},
   "outputs": [],
   "source": [
    "def say_hello(name):\n",
    "    print(f\"Привет, {name}\")\n",
    "    print_horoscope(name.upper())\n",
    "    print(f\"Пока, {name}, хорошего дня!\")\n",
    "\n",
    "def print_horoscope(name):\n",
    "    print(f\"{name}! Сегодня подходящий день для прогулок в парке и изучения рекурсии\") \n",
    "\n",
    "say_hello('Гоша')"
   ]
  },
  {
   "cell_type": "code",
   "execution_count": null,
   "id": "7f8992cf",
   "metadata": {},
   "outputs": [],
   "source": [
    "def factorial(n):\n",
    "    if n == 1 or n == 0:\n",
    "        return 1\n",
    "    return n * factorial(n - 1) "
   ]
  },
  {
   "cell_type": "code",
   "execution_count": null,
   "id": "4b9e2414",
   "metadata": {},
   "outputs": [],
   "source": [
    "factorial(3)"
   ]
  },
  {
   "cell_type": "markdown",
   "id": "410d3d21",
   "metadata": {},
   "source": [
    "#### двусвязный список"
   ]
  },
  {
   "cell_type": "code",
   "execution_count": null,
   "id": "2b442c29",
   "metadata": {},
   "outputs": [],
   "source": [
    "# Comment it before submitting\n",
    "class DoubleConnectedNode:  \n",
    "    def __init__(self, value, next=None, prev=None):  \n",
    "        self.value = value  \n",
    "        self.next = next  \n",
    "        self.prev = prev\n",
    "\n",
    "def solution(node):\n",
    "    # Your code\n",
    "    # ヽ(´▽`)/\n",
    "    pass\n",
    "\n",
    "def test():\n",
    "    node3 = DoubleConnectedNode(\"node3\")\n",
    "    node2 = DoubleConnectedNode(\"node2\")\n",
    "    node1 = DoubleConnectedNode(\"node1\")\n",
    "    node0 = DoubleConnectedNode(\"node0\")\n",
    "\n",
    "    node0.next = node1\n",
    "\n",
    "    node1.prev = node0\n",
    "    node1.next = node2\n",
    "\n",
    "    node2.prev = node1\n",
    "    node2.next = node3\n",
    "\n",
    "    node3.prev = node2\n",
    "    new_head = solution(node0)\n",
    "    # result is new_head == node3\n",
    "    # node3.next == node2\n",
    "    # node2.next == node1 node2.prev == node3\n",
    "    # node1.next == node0 node1.prev == node2\n",
    "    # node0.prev == node1"
   ]
  },
  {
   "cell_type": "code",
   "execution_count": null,
   "id": "71f837a4",
   "metadata": {},
   "outputs": [],
   "source": [
    "def add_element(collection):\n",
    "    collection.append(0)"
   ]
  },
  {
   "cell_type": "code",
   "execution_count": null,
   "id": "7d2cc965",
   "metadata": {},
   "outputs": [],
   "source": [
    "some_list = [1,2,3]\n",
    "add_element(some_list)\n",
    "print(some_list)\n"
   ]
  },
  {
   "cell_type": "code",
   "execution_count": null,
   "id": "cb5869af",
   "metadata": {},
   "outputs": [],
   "source": [
    "# some_tuple = (1,2,3)\n",
    "# add_element(some_tuple)\n",
    "# print(some_tuple)"
   ]
  },
  {
   "cell_type": "markdown",
   "id": "1f11f347",
   "metadata": {},
   "source": [
    "### Дек"
   ]
  },
  {
   "cell_type": "code",
   "execution_count": null,
   "id": "ad75d5f1",
   "metadata": {},
   "outputs": [],
   "source": [
    "class Deque:\n",
    "    def __init__(self):\n",
    "        self.items = []\n",
    "\n",
    "    def isEmpty(self):\n",
    "        return self.items == []\n",
    "\n",
    "    def push_front(self, item):\n",
    "        self.items.append(item)\n",
    "\n",
    "    def push_back(self, item):\n",
    "        self.items.insert(0,item)\n",
    "\n",
    "    def pop_front(self):\n",
    "        return self.items.pop()\n",
    "\n",
    "    def pop_back(self):\n",
    "        return self.items.pop(0)\n",
    "\n",
    "    def size(self):\n",
    "        return len(self.items)\n",
    "    "
   ]
  },
  {
   "cell_type": "code",
   "execution_count": null,
   "id": "ce377b49",
   "metadata": {},
   "outputs": [],
   "source": [
    "deq = Deque()"
   ]
  },
  {
   "cell_type": "code",
   "execution_count": null,
   "id": "6a6a9a3d",
   "metadata": {},
   "outputs": [],
   "source": [
    "k = int(input())\n",
    "n = int(input())\n",
    "\n",
    "for i in range(k):\n",
    "    arr = list(map(str, input().split()))\n",
    "    \n",
    "    if arr[0] == 'push_back': \n",
    "        if deq.size() < n:\n",
    "            deq.push_back(int(arr[1]))\n",
    "        else: print('error')\n",
    "            \n",
    "    elif arr[0] == 'push_front': \n",
    "        if deq.size() < n:\n",
    "            deq.push_front(int(arr[1])) \n",
    "        else: print('error')\n",
    "            \n",
    "    elif arr[0] == 'pop_front':\n",
    "        if deq.isEmpty(): \n",
    "            print('error')\n",
    "        else: \n",
    "            print(deq.pop_front())\n",
    "            \n",
    "    elif arr[0] == 'pop_back':\n",
    "        if deq.isEmpty(): \n",
    "            print('error')\n",
    "        else: \n",
    "            print(deq.pop_back())\n",
    "                "
   ]
  },
  {
   "cell_type": "code",
   "execution_count": null,
   "id": "f351c531",
   "metadata": {},
   "outputs": [],
   "source": []
  },
  {
   "cell_type": "code",
   "execution_count": null,
   "id": "b9c9203c",
   "metadata": {},
   "outputs": [],
   "source": [
    "deq = Deque()"
   ]
  },
  {
   "cell_type": "code",
   "execution_count": null,
   "id": "270ed9d8",
   "metadata": {},
   "outputs": [],
   "source": [
    "dek.items.insert(0,3)"
   ]
  },
  {
   "cell_type": "code",
   "execution_count": null,
   "id": "c1a50b54",
   "metadata": {},
   "outputs": [],
   "source": [
    "dek.items"
   ]
  },
  {
   "cell_type": "code",
   "execution_count": null,
   "id": "f4156817",
   "metadata": {},
   "outputs": [],
   "source": [
    "d = [3,4,6,7] "
   ]
  },
  {
   "cell_type": "code",
   "execution_count": null,
   "id": "c74b81c2",
   "metadata": {},
   "outputs": [],
   "source": [
    "d.tail"
   ]
  },
  {
   "cell_type": "code",
   "execution_count": null,
   "id": "204cdcfa",
   "metadata": {},
   "outputs": [],
   "source": [
    "items = d.items()"
   ]
  },
  {
   "cell_type": "code",
   "execution_count": null,
   "id": "e0cae234",
   "metadata": {},
   "outputs": [],
   "source": [
    "q = []"
   ]
  },
  {
   "cell_type": "code",
   "execution_count": null,
   "id": "75d5eadd",
   "metadata": {},
   "outputs": [],
   "source": [
    "q.queue = [None] * n"
   ]
  },
  {
   "cell_type": "code",
   "execution_count": null,
   "id": "8d26bf49",
   "metadata": {},
   "outputs": [],
   "source": [
    "class Queue:\n",
    "    def __init__(self, n):\n",
    "        self.queue = [None] * n\n",
    "        self.max_n = n\n",
    "        self.head = 0\n",
    "        self.tail = 0\n",
    "        self.size = 0\n",
    "    def is_empty(self):\n",
    "        return self.size == 0\n",
    "  \n",
    "    def push_back(self, x):\n",
    "        if self.size != self.max_n:\n",
    "            self.queue[self.tail] = x\n",
    "            self.tail = (self.tail + 1) % self.max_n\n",
    "            self.size += 1 \n",
    "            \n",
    "    def push_front(self, x):\n",
    "        if self.size != self.max_n:\n",
    "            self.queue[self.head-1] = x\n",
    "            self.head = (self.head - 1) % self.max_n\n",
    "            self.size += 1 "
   ]
  },
  {
   "cell_type": "code",
   "execution_count": null,
   "id": "a17b3fa3",
   "metadata": {},
   "outputs": [],
   "source": [
    "q = Queue(6)"
   ]
  },
  {
   "cell_type": "code",
   "execution_count": null,
   "id": "7bddd641",
   "metadata": {},
   "outputs": [],
   "source": [
    "q.push_back(102)"
   ]
  },
  {
   "cell_type": "code",
   "execution_count": null,
   "id": "847e619d",
   "metadata": {},
   "outputs": [],
   "source": [
    "q.push_front(20)"
   ]
  },
  {
   "cell_type": "code",
   "execution_count": null,
   "id": "5bd944c0",
   "metadata": {},
   "outputs": [],
   "source": [
    "q.queue"
   ]
  },
  {
   "cell_type": "code",
   "execution_count": null,
   "id": "3a6c1bc9",
   "metadata": {},
   "outputs": [],
   "source": [
    "q.appendleft(5)"
   ]
  },
  {
   "cell_type": "code",
   "execution_count": null,
   "id": "6b713fc5",
   "metadata": {},
   "outputs": [],
   "source": []
  },
  {
   "cell_type": "code",
   "execution_count": null,
   "id": "9b1816cf",
   "metadata": {},
   "outputs": [],
   "source": [
    "q = Queue(8) \n",
    "q.push(1)\n",
    "print(q.queue)  # [1, None, None, None, None, None, None, None]\n",
    "print(q.size)   # 1\n",
    "q.push(-1)\n",
    "q.push(0)\n",
    "q.push(11)\n",
    "print(q.queue)  # [1, -1, 0, 11, None, None, None, None]\n",
    "print(q.size)   # 4 "
   ]
  },
  {
   "cell_type": "code",
   "execution_count": null,
   "id": "8ad525a8",
   "metadata": {},
   "outputs": [],
   "source": []
  },
  {
   "cell_type": "code",
   "execution_count": null,
   "id": "3bacca76",
   "metadata": {},
   "outputs": [],
   "source": [
    "class ArrayDeque:\n",
    "    def __init__(self, capacity):\n",
    "        self.__deque = [None] * capacity\n",
    "        self.__size = 0\n",
    "        self.__head = 0\n",
    "        \n",
    "    def _ensureCapacity(self, x):\n",
    "        if not 0 <= self.__size + x < len(self.__deque):\n",
    "            raise ValueError(\"error\")\n",
    " \n",
    "    def _addHeadSize(self, head, size):\n",
    "        self.__head = (self.__head + head) % len(self.__deque)\n",
    "        self.__size += size\n",
    " \n",
    "    def pushBack(self, value):\n",
    "        self._ensureCapacity(1)\n",
    "        d = self.__deque\n",
    "        n = len(self.__deque)\n",
    "        index = (self.__head + self.__size + 1) % n\n",
    "        d[index] = value\n",
    "        self._addHeadSize(0, 1)\n",
    "        \n",
    "    def pushFront(self, value):\n",
    "        self._ensureCapacity(1)\n",
    "        d = self.__deque\n",
    "        n = len(d)\n",
    "        d[self.__head] = value\n",
    "        self._addHeadSize(-1, 1)\n",
    "        \n",
    "    def popFront(self):\n",
    "        self._ensureCapacity(-1)\n",
    "        d = self.__deque\n",
    "        n = len(d)\n",
    "        index = (self.__head + 1) % n\n",
    "        result = d[index]\n",
    "        d[index] = None\n",
    "        self._addHeadSize(1, -1)\n",
    "        return result\n",
    "        \n",
    "    def popBack(self):\n",
    "        self._ensureCapacity(-1)\n",
    "        d = self.__deque\n",
    "        n = len(d)\n",
    "        index = (self.__head + self.__size) % n\n",
    "        result = d[index]\n",
    "        d[index] = None\n",
    "        self._addHeadSize(0, -1)\n",
    "        return result\n",
    "        \n",
    "def solution():\n",
    "    n = int(input())\n",
    "    m = int(input())\n",
    "    deque = ArrayDeque(m)\n",
    "    commands = {\n",
    "        \"push_back\": deque.pushBack,\n",
    "        \"push_front\": deque.pushFront,\n",
    "        \"pop_front\": deque.popFront,\n",
    "        \"pop_back\": deque.popBack,\n",
    "    }\n",
    "    for _ in range(n):\n",
    "        command, *values = input().split()\n",
    "        try:\n",
    "            result = commands[command](*values)\n",
    "            if result is not None:\n",
    "                print(result)\n",
    "        except ValueError as e:\n",
    "            print(e)\n",
    "       \n",
    "if __name__ == \"__main__\":\n",
    "    solution()"
   ]
  },
  {
   "cell_type": "markdown",
   "id": "cf31e753",
   "metadata": {},
   "source": [
    "/*\n",
    "-- ПРИНЦИП РАБОТЫ --\n",
    "Я реализовал Дек на кольцевом буфере \n",
    "\n",
    "использовал статью\n",
    "https://www.geeksforgeeks.org/implementation-deque-using-circular-array/\n",
    "\n",
    "В деке 2 указателя head и tail. При создании они указывают на один и тот же элемент.    \n",
    "При добавлении push_back к указателю tail прибавляется 1 \n",
    "При добавлении push_front у указателю head отнимается 1 \n",
    "Соответсвенно можно доставать элементы с 2 -х концов.\n",
    "\n",
    "-- ВРЕМЕННАЯ СЛОЖНОСТЬ --\n",
    "Из-за того, что не нужно снова выделять память, каждая операция выполняется за O(1).\n",
    "\n",
    "Добавление и извлечение из стека стоит O(1).\n",
    "\n",
    "-- ПРОСТРАНСТВЕННАЯ СЛОЖНОСТЬ --\n",
    "Здесь сразу создаем дек и выделяем память на N элементов.\n",
    "\n",
    "*/\n"
   ]
  },
  {
   "cell_type": "code",
   "execution_count": 1,
   "id": "0df2d008",
   "metadata": {},
   "outputs": [],
   "source": [
    "class Dek:\n",
    "    def __init__(self, max_size: int):\n",
    "        self._elements = [None] * max_size\n",
    "        self._max_size = max_size\n",
    "        self._head = 0\n",
    "        self._tail = 0\n",
    "        self._size = 0\n",
    "\n",
    "    def is_empty(self):\n",
    "        return self._size == 0\n",
    "\n",
    "    def push_back(self, value: int):\n",
    "        if self._size != self._max_size:\n",
    "            self._elements[self._tail] = value\n",
    "            self._tail = (self._tail + 1) % self._max_size\n",
    "            self._size += 1\n",
    "        else:\n",
    "            print('error')\n",
    "\n",
    "    def push_front(self, value: int):\n",
    "        if self._size != self._max_size:\n",
    "            self._elements[self._head - 1] = value\n",
    "            self._head = (self._head - 1) % self._max_size\n",
    "            self._size += 1\n",
    "        else:\n",
    "            print('error')\n",
    "\n",
    "    def pop_back(self):\n",
    "        if self.is_empty():\n",
    "            print('error')\n",
    "        else:\n",
    "            x = self._elements[self._tail - 1]\n",
    "            self._elements[self._tail - 1] = None\n",
    "            self._tail = (self._tail - 1) % self._max_size\n",
    "            self._size -= 1\n",
    "            print(x)\n",
    "\n",
    "    def pop_front(self):\n",
    "        if self.is_empty():\n",
    "            print('error')\n",
    "        else:\n",
    "            x = self._elements[self._head]\n",
    "            self._elements[self._head] = None\n",
    "            self._head = (self._head + 1) % self._max_size\n",
    "            self._size -= 1\n",
    "            print(x)\n"
   ]
  },
  {
   "cell_type": "code",
   "execution_count": 2,
   "id": "7f43f44f",
   "metadata": {},
   "outputs": [
    {
     "name": "stdout",
     "output_type": "stream",
     "text": [
      "6\n",
      "6\n",
      "push_front -201\n",
      "push_back 959\n",
      "push_back 102\n",
      "push_front 20\n",
      "pop_front\n",
      "20\n",
      "pop_front\n",
      "-201\n"
     ]
    }
   ],
   "source": [
    "k = int(input())\n",
    "n = int(input())\n",
    "\n",
    "deq = Dek(n)\n",
    "\n",
    "for i in range(k):\n",
    "    arr = list(map(str, input().split()))\n",
    "    \n",
    "    if arr[0] == 'push_back': \n",
    "        deq.push_back(int(arr[1]))\n",
    "\n",
    "    elif arr[0] == 'push_front': \n",
    "        deq.push_front(int(arr[1])) \n",
    "                  \n",
    "    elif arr[0] == 'pop_front':\n",
    "        deq.pop_front()\n",
    "            \n",
    "    elif arr[0] == 'pop_back':\n",
    "        deq.pop_back()\n"
   ]
  },
  {
   "cell_type": "code",
   "execution_count": 4,
   "id": "e15272b6",
   "metadata": {},
   "outputs": [
    {
     "name": "stdout",
     "output_type": "stream",
     "text": [
      "9\n",
      "6\n",
      "push_front -201\n",
      "push_back 959\n",
      "push_back 102\n",
      "push_front 20\n",
      "pop_front\n",
      "20\n",
      "pop_front\n",
      "-201\n",
      "pop_front\n",
      "959\n",
      "pop_front\n",
      "102\n",
      "\n"
     ]
    },
    {
     "ename": "IndexError",
     "evalue": "list index out of range",
     "output_type": "error",
     "traceback": [
      "\u001b[1;31m---------------------------------------------------------------------------\u001b[0m",
      "\u001b[1;31mIndexError\u001b[0m                                Traceback (most recent call last)",
      "\u001b[1;32m<ipython-input-4-0d022695b0a6>\u001b[0m in \u001b[0;36m<module>\u001b[1;34m\u001b[0m\n\u001b[0;32m      7\u001b[0m     \u001b[0marr\u001b[0m \u001b[1;33m=\u001b[0m \u001b[0mlist\u001b[0m\u001b[1;33m(\u001b[0m\u001b[0mmap\u001b[0m\u001b[1;33m(\u001b[0m\u001b[0mstr\u001b[0m\u001b[1;33m,\u001b[0m \u001b[0minput\u001b[0m\u001b[1;33m(\u001b[0m\u001b[1;33m)\u001b[0m\u001b[1;33m.\u001b[0m\u001b[0msplit\u001b[0m\u001b[1;33m(\u001b[0m\u001b[1;33m)\u001b[0m\u001b[1;33m)\u001b[0m\u001b[1;33m)\u001b[0m\u001b[1;33m\u001b[0m\u001b[1;33m\u001b[0m\u001b[0m\n\u001b[0;32m      8\u001b[0m \u001b[1;33m\u001b[0m\u001b[0m\n\u001b[1;32m----> 9\u001b[1;33m     \u001b[1;32mif\u001b[0m \u001b[0marr\u001b[0m\u001b[1;33m[\u001b[0m\u001b[1;36m0\u001b[0m\u001b[1;33m]\u001b[0m \u001b[1;33m==\u001b[0m \u001b[1;34m'push_back'\u001b[0m\u001b[1;33m:\u001b[0m\u001b[1;33m\u001b[0m\u001b[1;33m\u001b[0m\u001b[0m\n\u001b[0m\u001b[0;32m     10\u001b[0m         \u001b[0mdeq\u001b[0m\u001b[1;33m.\u001b[0m\u001b[0mpush_back\u001b[0m\u001b[1;33m(\u001b[0m\u001b[0mint\u001b[0m\u001b[1;33m(\u001b[0m\u001b[0marr\u001b[0m\u001b[1;33m[\u001b[0m\u001b[1;36m1\u001b[0m\u001b[1;33m]\u001b[0m\u001b[1;33m)\u001b[0m\u001b[1;33m)\u001b[0m\u001b[1;33m\u001b[0m\u001b[1;33m\u001b[0m\u001b[0m\n\u001b[0;32m     11\u001b[0m \u001b[1;33m\u001b[0m\u001b[0m\n",
      "\u001b[1;31mIndexError\u001b[0m: list index out of range"
     ]
    }
   ],
   "source": [
    "k = int(input())\n",
    "n = int(input())\n",
    "\n",
    "deq = Dek(n)\n",
    "\n",
    "for i in range(k):\n",
    "    arr = list(map(str, input().split()))\n",
    "    \n",
    "    if arr[0] == 'push_back': \n",
    "        deq.push_back(int(arr[1]))\n",
    "\n",
    "    elif arr[0] == 'push_front': \n",
    "        deq.push_front(int(arr[1])) \n",
    "                  \n",
    "    elif arr[0] == 'pop_front':\n",
    "        deq.pop_front()\n",
    "            \n",
    "    elif arr[0] == 'pop_back':\n",
    "        deq.pop_back()\n"
   ]
  },
  {
   "cell_type": "code",
   "execution_count": 13,
   "id": "3182ed7f",
   "metadata": {},
   "outputs": [],
   "source": [
    "pop_frontq = Dek(2)"
   ]
  },
  {
   "cell_type": "code",
   "execution_count": 19,
   "id": "257bce70",
   "metadata": {},
   "outputs": [
    {
     "name": "stdout",
     "output_type": "stream",
     "text": [
      "error\n"
     ]
    }
   ],
   "source": [
    "q.push_back(103)"
   ]
  },
  {
   "cell_type": "code",
   "execution_count": 5,
   "id": "dbab5e5f",
   "metadata": {},
   "outputs": [],
   "source": [
    "q.push_front(-819)"
   ]
  },
  {
   "cell_type": "code",
   "execution_count": 18,
   "id": "6f710753",
   "metadata": {},
   "outputs": [
    {
     "data": {
      "text/plain": [
       "[100, 101]"
      ]
     },
     "execution_count": 18,
     "metadata": {},
     "output_type": "execute_result"
    }
   ],
   "source": [
    "q._elements"
   ]
  },
  {
   "cell_type": "code",
   "execution_count": 21,
   "id": "ad7c3b17",
   "metadata": {},
   "outputs": [
    {
     "data": {
      "text/plain": [
       "1"
      ]
     },
     "execution_count": 21,
     "metadata": {},
     "output_type": "execute_result"
    }
   ],
   "source": [
    "7%6"
   ]
  },
  {
   "cell_type": "code",
   "execution_count": null,
   "id": "e2208aed",
   "metadata": {},
   "outputs": [],
   "source": []
  },
  {
   "cell_type": "code",
   "execution_count": null,
   "id": "2b7b8657",
   "metadata": {},
   "outputs": [],
   "source": []
  },
  {
   "cell_type": "code",
   "execution_count": null,
   "id": "a9d1bddc",
   "metadata": {},
   "outputs": [],
   "source": [
    "q._elements[-1]"
   ]
  },
  {
   "cell_type": "code",
   "execution_count": null,
   "id": "9e5b0ef9",
   "metadata": {},
   "outputs": [],
   "source": [
    "k = int(input())\n",
    "n = int(input())\n",
    "\n",
    "deq = Dek(n)\n",
    "\n",
    "for i in range(k):\n",
    "    arr = list(map(str, input().split()))\n",
    "    \n",
    "    if arr[0] == 'push_back': \n",
    "        deq.push_back(int(arr[1]))\n",
    "\n",
    "    elif arr[0] == 'push_front': \n",
    "        deq.push_front(int(arr[1])) \n",
    "                  \n",
    "    elif arr[0] == 'pop_front':\n",
    "        deq.pop_front()\n",
    "            \n",
    "    elif arr[0] == 'pop_back':\n",
    "        deq.pop_back()\n",
    "        "
   ]
  },
  {
   "cell_type": "code",
   "execution_count": null,
   "id": "032ec8b2",
   "metadata": {},
   "outputs": [],
   "source": []
  },
  {
   "cell_type": "code",
   "execution_count": 7,
   "id": "a5bbebbe",
   "metadata": {},
   "outputs": [
    {
     "name": "stdout",
     "output_type": "stream",
     "text": [
      "4\n",
      "7\n"
     ]
    }
   ],
   "source": [
    "count_command = int(input())\n",
    "queue_size = int(input())"
   ]
  },
  {
   "cell_type": "code",
   "execution_count": 1,
   "id": "167c7f66",
   "metadata": {},
   "outputs": [],
   "source": [
    "# commands = {\n",
    "#         'push_front': Dek.push_front,\n",
    "#         'push_back': Dek.push_back,\n",
    "#         'pop_front': Dek.pop_front,\n",
    "#         'pop_back': Dek.pop_back,\n",
    "#     }\n",
    "# for i in range(count_command):\n",
    "#     command = input()\n",
    "#     operation, *value = command.split()\n",
    "#     print(operation)\n",
    "#     print(value)\n",
    "#         if value:\n",
    "#             try:\n",
    "#                 result = commands[operation](int(*value))\n",
    "#                 if result is not None:\n",
    "#                     print(result)\n",
    "#             except OverflowError:\n",
    "#                 print('error')\n",
    "#         else:\n",
    "#             try:\n",
    "#                 result = commands[operation]()\n",
    "#                 print(result)\n",
    "#             except IndexError:\n",
    "#                 print('error')\n"
   ]
  },
  {
   "cell_type": "code",
   "execution_count": null,
   "id": "efc21794",
   "metadata": {},
   "outputs": [],
   "source": [
    "/*\n",
    "-- ПРИНЦИП РАБОТЫ --\n",
    "Здесь использую обычный стек.\n",
    "\n",
    "\n",
    "-- ВРЕМЕННАЯ СЛОЖНОСТЬ --\n",
    "\n",
    "Добавление и извлечение из стека стоит O(1).\n",
    "\n",
    "\n",
    "\n",
    "*/"
   ]
  },
  {
   "cell_type": "code",
   "execution_count": 10,
   "id": "fe2b11f6",
   "metadata": {},
   "outputs": [],
   "source": [
    "class Stack:\n",
    "    def __init__(self):\n",
    "        self.items = []\n",
    "\n",
    "    def push(self, item):\n",
    "        self.items.append(item)\n",
    "\n",
    "    def pop(self):\n",
    "        return self.items.pop()\n",
    "\n",
    "\n",
    "    def size(self):\n",
    "        return len(self.items)\n",
    "\n",
    "\n",
    "OPERATORS = {'+': lambda x, y: x + y,\n",
    "             '-': lambda x, y: x - y,\n",
    "             '*': lambda x, y: x * y,\n",
    "             '/': lambda x, y: x // y}\n"
   ]
  },
  {
   "cell_type": "code",
   "execution_count": 11,
   "id": "92c5e234",
   "metadata": {},
   "outputs": [],
   "source": [
    "def calculator(line, operators=OPERATORS):\n",
    "    stack = Stack() \n",
    "#     if stack is None else stack\n",
    "    for element in line:\n",
    "        if element in operators:\n",
    "            el1, el2 = stack.pop(), stack.pop()\n",
    "            stack.push(operators[element](el2, el1))\n",
    "        else:\n",
    "            try:\n",
    "                stack.push(int(element))\n",
    "            except:\n",
    "                raise KeyError('WRONG_KEY')\n",
    "    return stack.pop()"
   ]
  },
  {
   "cell_type": "code",
   "execution_count": 13,
   "id": "a1cdf121",
   "metadata": {},
   "outputs": [
    {
     "name": "stdout",
     "output_type": "stream",
     "text": [
      "7 2 + 4 * 2 +\n",
      "38\n"
     ]
    }
   ],
   "source": [
    "if __name__ == '__main__':\n",
    "    line = input().split()\n",
    "    print(calculator(line))"
   ]
  },
  {
   "cell_type": "code",
   "execution_count": 9,
   "id": "0ab40895",
   "metadata": {},
   "outputs": [
    {
     "data": {
      "text/plain": [
       "-1"
      ]
     },
     "execution_count": 9,
     "metadata": {},
     "output_type": "execute_result"
    }
   ],
   "source": [
    "OPERATORS['-'](3,4)"
   ]
  },
  {
   "cell_type": "code",
   "execution_count": 16,
   "id": "7dfac06b",
   "metadata": {},
   "outputs": [
    {
     "data": {
      "text/plain": [
       "1"
      ]
     },
     "execution_count": 16,
     "metadata": {},
     "output_type": "execute_result"
    }
   ],
   "source": [
    "7% 2 "
   ]
  },
  {
   "cell_type": "code",
   "execution_count": 18,
   "id": "12e3e6b3",
   "metadata": {},
   "outputs": [
    {
     "data": {
      "text/plain": [
       "3"
      ]
     },
     "execution_count": 18,
     "metadata": {},
     "output_type": "execute_result"
    }
   ],
   "source": [
    "7 // 2"
   ]
  },
  {
   "cell_type": "code",
   "execution_count": 2,
   "id": "0c952268",
   "metadata": {},
   "outputs": [],
   "source": [
    "from collections import Counter"
   ]
  },
  {
   "cell_type": "code",
   "execution_count": 3,
   "id": "e6e76ede",
   "metadata": {},
   "outputs": [],
   "source": [
    "r = Counter()"
   ]
  },
  {
   "cell_type": "code",
   "execution_count": 16,
   "id": "4d76d03e",
   "metadata": {},
   "outputs": [],
   "source": [
    "for i in [1,2,3,1,3]:\n",
    "    r[i]+=1"
   ]
  },
  {
   "cell_type": "code",
   "execution_count": 20,
   "id": "ea810e22",
   "metadata": {},
   "outputs": [
    {
     "data": {
      "text/plain": [
       "Counter({1: 4, 2: 2, 3: 2})"
      ]
     },
     "execution_count": 20,
     "metadata": {},
     "output_type": "execute_result"
    }
   ],
   "source": [
    "r"
   ]
  },
  {
   "cell_type": "code",
   "execution_count": 19,
   "id": "7f7e5cc3",
   "metadata": {},
   "outputs": [],
   "source": [
    "r[1]+=1"
   ]
  },
  {
   "cell_type": "code",
   "execution_count": 13,
   "id": "bfa77730",
   "metadata": {},
   "outputs": [],
   "source": [
    "r[2]+=1"
   ]
  },
  {
   "cell_type": "code",
   "execution_count": 1,
   "id": "d44f2c7d",
   "metadata": {},
   "outputs": [],
   "source": [
    "g = dict"
   ]
  },
  {
   "cell_type": "code",
   "execution_count": 2,
   "id": "a0f2a018",
   "metadata": {},
   "outputs": [
    {
     "data": {
      "text/plain": [
       "dict"
      ]
     },
     "execution_count": 2,
     "metadata": {},
     "output_type": "execute_result"
    }
   ],
   "source": [
    "g"
   ]
  },
  {
   "cell_type": "code",
   "execution_count": 28,
   "id": "02ced1ed",
   "metadata": {},
   "outputs": [],
   "source": [
    "g = {'dsff':'dsfsd','j':'kg'}"
   ]
  },
  {
   "cell_type": "code",
   "execution_count": 29,
   "id": "cb78d7ff",
   "metadata": {},
   "outputs": [
    {
     "data": {
      "text/plain": [
       "{'dsff': 'dsfsd', 'j': 'kg'}"
      ]
     },
     "execution_count": 29,
     "metadata": {},
     "output_type": "execute_result"
    }
   ],
   "source": [
    "g"
   ]
  },
  {
   "cell_type": "code",
   "execution_count": null,
   "id": "27203fda",
   "metadata": {},
   "outputs": [],
   "source": []
  },
  {
   "cell_type": "code",
   "execution_count": 6,
   "id": "9e81cc12",
   "metadata": {},
   "outputs": [],
   "source": [
    "import datetime as dt"
   ]
  },
  {
   "cell_type": "code",
   "execution_count": 46,
   "id": "a201c507",
   "metadata": {},
   "outputs": [],
   "source": [
    "end_date = dt.datetime.now() - dt.timedelta(days = 1)\n",
    "end_date = end_date.strftime(\"%Y%m%d\")"
   ]
  },
  {
   "cell_type": "code",
   "execution_count": 47,
   "id": "adf7652f",
   "metadata": {},
   "outputs": [
    {
     "data": {
      "text/plain": [
       "'20220621'"
      ]
     },
     "execution_count": 47,
     "metadata": {},
     "output_type": "execute_result"
    }
   ],
   "source": [
    "end_date"
   ]
  },
  {
   "cell_type": "code",
   "execution_count": 50,
   "id": "e20d21fd",
   "metadata": {},
   "outputs": [],
   "source": [
    "start_date = dt.datetime.now() - dt.timedelta(days = 36)\n",
    "start_date = start_date.strftime(\"%Y%m%d\")"
   ]
  },
  {
   "cell_type": "code",
   "execution_count": 51,
   "id": "7a0ec714",
   "metadata": {},
   "outputs": [
    {
     "data": {
      "text/plain": [
       "'20220517'"
      ]
     },
     "execution_count": 51,
     "metadata": {},
     "output_type": "execute_result"
    }
   ],
   "source": [
    "start_date"
   ]
  },
  {
   "cell_type": "code",
   "execution_count": null,
   "id": "00658233",
   "metadata": {},
   "outputs": [],
   "source": []
  },
  {
   "cell_type": "code",
   "execution_count": null,
   "id": "ab8147c0",
   "metadata": {},
   "outputs": [],
   "source": []
  },
  {
   "cell_type": "code",
   "execution_count": 24,
   "id": "fab686c4",
   "metadata": {},
   "outputs": [],
   "source": [
    "y = dt.datetime.now()- dt.timedelta(days = 3)"
   ]
  },
  {
   "cell_type": "code",
   "execution_count": 25,
   "id": "378d8b43",
   "metadata": {},
   "outputs": [
    {
     "data": {
      "text/plain": [
       "'2022-06-19'"
      ]
     },
     "execution_count": 25,
     "metadata": {},
     "output_type": "execute_result"
    }
   ],
   "source": [
    "y.strftime(\"%Y-%m-%d\")"
   ]
  },
  {
   "cell_type": "code",
   "execution_count": 26,
   "id": "86176c59",
   "metadata": {},
   "outputs": [
    {
     "data": {
      "text/plain": [
       "'202224'"
      ]
     },
     "execution_count": 26,
     "metadata": {},
     "output_type": "execute_result"
    }
   ],
   "source": [
    "y.strftime(\"%Y%W\")"
   ]
  },
  {
   "cell_type": "code",
   "execution_count": 27,
   "id": "e6761c7b",
   "metadata": {},
   "outputs": [
    {
     "data": {
      "text/plain": [
       "'202225'"
      ]
     },
     "execution_count": 27,
     "metadata": {},
     "output_type": "execute_result"
    }
   ],
   "source": [
    "dt.datetime.now().strftime(\"%Y%W\")"
   ]
  },
  {
   "cell_type": "code",
   "execution_count": 30,
   "id": "12905bb0",
   "metadata": {},
   "outputs": [
    {
     "data": {
      "text/plain": [
       "datetime.datetime(2022, 6, 21, 18, 51, 56, 490281)"
      ]
     },
     "execution_count": 30,
     "metadata": {},
     "output_type": "execute_result"
    }
   ],
   "source": [
    "dt.datetime.now() - dt.timedelta(days = 1)"
   ]
  },
  {
   "cell_type": "code",
   "execution_count": null,
   "id": "6585a178",
   "metadata": {},
   "outputs": [],
   "source": []
  },
  {
   "cell_type": "code",
   "execution_count": 2,
   "id": "e0c4c5e2",
   "metadata": {},
   "outputs": [
    {
     "name": "stdout",
     "output_type": "stream",
     "text": [
      "0\n",
      "1\n",
      "2\n",
      "3\n",
      "4\n"
     ]
    }
   ],
   "source": [
    "for i in range(0, 5):\n",
    "    print(i)"
   ]
  },
  {
   "cell_type": "code",
   "execution_count": 4,
   "id": "6025616a",
   "metadata": {},
   "outputs": [
    {
     "name": "stdout",
     "output_type": "stream",
     "text": [
      "3\n",
      "3 4 5\n"
     ]
    }
   ],
   "source": [
    "n = int(input())\n",
    "arr1  = list(map(int, input().split()))"
   ]
  },
  {
   "cell_type": "code",
   "execution_count": 5,
   "id": "d56c146e",
   "metadata": {},
   "outputs": [
    {
     "data": {
      "text/plain": [
       "[3, 4, 5]"
      ]
     },
     "execution_count": 5,
     "metadata": {},
     "output_type": "execute_result"
    }
   ],
   "source": [
    "arr1"
   ]
  },
  {
   "cell_type": "code",
   "execution_count": 6,
   "id": "b49374d2",
   "metadata": {},
   "outputs": [
    {
     "name": "stdout",
     "output_type": "stream",
     "text": [
      "3 4 5 \n"
     ]
    },
    {
     "data": {
      "text/plain": [
       "[3, 4, 5]"
      ]
     },
     "execution_count": 6,
     "metadata": {},
     "output_type": "execute_result"
    }
   ],
   "source": [
    "list(map(int, input().split()))"
   ]
  },
  {
   "cell_type": "code",
   "execution_count": null,
   "id": "597c81ed",
   "metadata": {},
   "outputs": [],
   "source": [
    "n = int(input())\n",
    "arr = list(map(int, input().split()))\n",
    "k = int(input())\n",
    "my_list = []\n",
    "for i in range(0, k):\n",
    "    my_list.append(arr[i])\n",
    "cur_sum = sum(my_list)\n",
    "result = []\n",
    "result.append(cur_sum/k)\n",
    "for i in range(0, n-k):\n",
    "    cur_sum = cur_sum - arr[i]\n",
    "    cur_sum = cur_sum + arr[i+k]\n",
    "    current_avg = cur_sum / k\n",
    "    result.append(current_avg)\n",
    "print(\" \".join(list(map(str, result)))) "
   ]
  },
  {
   "cell_type": "code",
   "execution_count": 12,
   "id": "5c798a73",
   "metadata": {},
   "outputs": [
    {
     "name": "stdout",
     "output_type": "stream",
     "text": [
      "0\n",
      "1\n",
      "2\n"
     ]
    }
   ],
   "source": [
    "for i in range(0, n-k):\n",
    "    print(i)"
   ]
  },
  {
   "cell_type": "code",
   "execution_count": 7,
   "id": "bec48563",
   "metadata": {},
   "outputs": [
    {
     "name": "stdout",
     "output_type": "stream",
     "text": [
      "7\n",
      "1 2 3 4 5 6 7\n",
      "4\n"
     ]
    }
   ],
   "source": [
    "n = int(input())\n",
    "arr = list(map(int, input().split()))\n",
    "k = int(input())"
   ]
  },
  {
   "cell_type": "code",
   "execution_count": 9,
   "id": "13dfeff6",
   "metadata": {},
   "outputs": [
    {
     "data": {
      "text/plain": [
       "[1, 2, 3, 4, 5, 6, 7]"
      ]
     },
     "execution_count": 9,
     "metadata": {},
     "output_type": "execute_result"
    }
   ],
   "source": [
    "arr"
   ]
  },
  {
   "cell_type": "code",
   "execution_count": 10,
   "id": "d223f14f",
   "metadata": {},
   "outputs": [],
   "source": [
    "my_list = []\n",
    "for i in range(0, k):\n",
    "    my_list.append(arr[i])"
   ]
  },
  {
   "cell_type": "code",
   "execution_count": 11,
   "id": "bcaba5cd",
   "metadata": {},
   "outputs": [
    {
     "data": {
      "text/plain": [
       "[1, 2, 3, 4]"
      ]
     },
     "execution_count": 11,
     "metadata": {},
     "output_type": "execute_result"
    }
   ],
   "source": [
    "my_list"
   ]
  },
  {
   "cell_type": "code",
   "execution_count": 1,
   "id": "82c70708",
   "metadata": {},
   "outputs": [
    {
     "name": "stdout",
     "output_type": "stream",
     "text": [
      "7\n",
      "1 2 3 4 56 7\n",
      "4\n"
     ]
    }
   ],
   "source": [
    "n = int(input())\n",
    "arr = list(map(int, input().split()))\n",
    "k = int(input())"
   ]
  },
  {
   "cell_type": "code",
   "execution_count": 2,
   "id": "b57073a6",
   "metadata": {},
   "outputs": [
    {
     "name": "stdout",
     "output_type": "stream",
     "text": [
      "0\n",
      "1\n",
      "2\n"
     ]
    }
   ],
   "source": [
    "my_list = []\n",
    "for i in range(0,k):\n",
    "    my_list.append(arr[i])\n",
    "cur_sum = sum(my_list)\n",
    "result = []\n",
    "result.append(cur_sum/k)\n",
    "for i in range(n-k):\n",
    "    print(i)\n",
    "\n",
    "\n"
   ]
  },
  {
   "cell_type": "code",
   "execution_count": null,
   "id": "b4566310",
   "metadata": {},
   "outputs": [],
   "source": []
  },
  {
   "cell_type": "code",
   "execution_count": null,
   "id": "89294d46",
   "metadata": {},
   "outputs": [],
   "source": []
  }
 ],
 "metadata": {
  "kernelspec": {
   "display_name": "Python 3",
   "language": "python",
   "name": "python3"
  },
  "language_info": {
   "codemirror_mode": {
    "name": "ipython",
    "version": 3
   },
   "file_extension": ".py",
   "mimetype": "text/x-python",
   "name": "python",
   "nbconvert_exporter": "python",
   "pygments_lexer": "ipython3",
   "version": "3.8.8"
  }
 },
 "nbformat": 4,
 "nbformat_minor": 5
}
